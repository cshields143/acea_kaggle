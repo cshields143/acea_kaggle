{
 "cells": [
  {
   "cell_type": "code",
   "execution_count": 1,
   "metadata": {},
   "outputs": [],
   "source": [
    "import pandas as pd"
   ]
  },
  {
   "cell_type": "markdown",
   "metadata": {},
   "source": [
    "# Rainfall In Mangona\n",
    "\n",
    "![Magona station](images/mangona.png)\n",
    "\n",
    "*Fun Fact!* The village of Mangona, Italy has a population of approximately **21** people"
   ]
  },
  {
   "cell_type": "code",
   "execution_count": 2,
   "metadata": {},
   "outputs": [],
   "source": [
    "stations = pd.read_csv('data/geo/stazioni.csv', ';')"
   ]
  },
  {
   "cell_type": "code",
   "execution_count": 6,
   "metadata": {},
   "outputs": [
    {
     "data": {
      "text/html": [
       "<div>\n",
       "<style scoped>\n",
       "    .dataframe tbody tr th:only-of-type {\n",
       "        vertical-align: middle;\n",
       "    }\n",
       "\n",
       "    .dataframe tbody tr th {\n",
       "        vertical-align: top;\n",
       "    }\n",
       "\n",
       "    .dataframe thead th {\n",
       "        text-align: right;\n",
       "    }\n",
       "</style>\n",
       "<table border=\"1\" class=\"dataframe\">\n",
       "  <thead>\n",
       "    <tr style=\"text-align: right;\">\n",
       "      <th></th>\n",
       "      <th>IDStazione</th>\n",
       "      <th>StazioneExtra</th>\n",
       "      <th>Nome</th>\n",
       "      <th>Comune</th>\n",
       "      <th>Provincia</th>\n",
       "      <th>Fiume</th>\n",
       "      <th>Strumento</th>\n",
       "      <th>Unita' Misura</th>\n",
       "      <th>IDSensoreRete</th>\n",
       "      <th>LAT [o]</th>\n",
       "      <th>LON [o]</th>\n",
       "      <th>GB E [m]</th>\n",
       "      <th>GB N [m]</th>\n",
       "      <th>Quota</th>\n",
       "      <th>QuotaTerra</th>\n",
       "    </tr>\n",
       "  </thead>\n",
       "  <tbody>\n",
       "    <tr>\n",
       "      <th>1148</th>\n",
       "      <td>TOS01000921</td>\n",
       "      <td>0</td>\n",
       "      <td>Mangona</td>\n",
       "      <td>Barberino di Mugello</td>\n",
       "      <td>FI</td>\n",
       "      <td>NaN</td>\n",
       "      <td>pluviometro</td>\n",
       "      <td>mm</td>\n",
       "      <td>738307.0</td>\n",
       "      <td>44.050061</td>\n",
       "      <td>11.195636</td>\n",
       "      <td>1675916.49</td>\n",
       "      <td>4879792.65</td>\n",
       "      <td>540.0</td>\n",
       "      <td>2.0</td>\n",
       "    </tr>\n",
       "    <tr>\n",
       "      <th>1149</th>\n",
       "      <td>TOS01000921</td>\n",
       "      <td>0</td>\n",
       "      <td>Mangona</td>\n",
       "      <td>Barberino di Mugello</td>\n",
       "      <td>FI</td>\n",
       "      <td>NaN</td>\n",
       "      <td>pluviometro</td>\n",
       "      <td>mm</td>\n",
       "      <td>738327.0</td>\n",
       "      <td>44.050061</td>\n",
       "      <td>11.195636</td>\n",
       "      <td>1675916.49</td>\n",
       "      <td>4879792.65</td>\n",
       "      <td>540.0</td>\n",
       "      <td>NaN</td>\n",
       "    </tr>\n",
       "  </tbody>\n",
       "</table>\n",
       "</div>"
      ],
      "text/plain": [
       "       IDStazione  StazioneExtra     Nome                Comune Provincia  \\\n",
       "1148  TOS01000921              0  Mangona  Barberino di Mugello        FI   \n",
       "1149  TOS01000921              0  Mangona  Barberino di Mugello        FI   \n",
       "\n",
       "     Fiume    Strumento Unita' Misura  IDSensoreRete    LAT [o]    LON [o]  \\\n",
       "1148   NaN  pluviometro            mm       738307.0  44.050061  11.195636   \n",
       "1149   NaN  pluviometro            mm       738327.0  44.050061  11.195636   \n",
       "\n",
       "        GB E [m]    GB N [m]  Quota  QuotaTerra  \n",
       "1148  1675916.49  4879792.65  540.0         2.0  \n",
       "1149  1675916.49  4879792.65  540.0         NaN  "
      ]
     },
     "execution_count": 6,
     "metadata": {},
     "output_type": "execute_result"
    }
   ],
   "source": [
    "c1 = stations['Nome'] == 'Mangona'\n",
    "c2 = stations['Strumento'] == 'pluviometro'\n",
    "stations.loc[c1 & c2]\n",
    "# Why do we have two different sensor IDs?"
   ]
  },
  {
   "cell_type": "markdown",
   "metadata": {},
   "source": [
    "The rainfall sensor at Mangona sits **540m** above sea level."
   ]
  },
  {
   "cell_type": "markdown",
   "metadata": {},
   "source": [
    "## Sedimentary Geology\n",
    "\n",
    "![Grain size](images/grains.png)"
   ]
  },
  {
   "cell_type": "markdown",
   "metadata": {},
   "source": [
    "**Cementation**: Ions in *groundwater* (ie, \"below the water table\") bind grains together, \"gluing\" different layers in sediment together; this is how *sand* (for instance) becomes *sandstone*\n",
    "\n",
    "Cementation is *part* of sedimentary geology; that is, cementation is what makes sedimentary rocks sedimentary\n",
    "\n",
    "\"Common mineral cements include **calcite**, **quartz** or silica phases like **cristobalite**, **iron oxides**, and **clay minerals**, but other mineral cements also occur.\"\n",
    "\n",
    "**Diagenesis**: \"the physical and chemical changes occurring during the conversion of sediment to sedimentary rock\"\n",
    "\n",
    "\"Cementation occurs as part of the diagenesis or lithification of sediments\"\n",
    "\n",
    "**Clastic rocks**: Sediment that is composed of broken-off pieces of other rocks; geological detritus, as opposed to biological detritus\n",
    "\n",
    "\"An example of clastic environment would be a river system in which the full range of grains being transported by the moving water consist of pieces eroded from solid rock upstream.\"\n",
    "\n",
    "**Siliciclastic**: Clasts (\"broken off pieces of rock\") that are almost entirely **quartz** or **silicates**\n",
    "\n",
    "**Carbonate**: Clasts of **calcite**, **aragonite**, or **dolomite** (ie, limestone)\n",
    "\n",
    "\"Calcite can be either dissolved by groundwater or precipitated by groundwater, depending on several factors including the water temperature, pH, and dissolved ion concentrations. Calcite exhibits an unusual characteristic called retrograde solubility in which it becomes less soluble in water as the temperature increases.\"\n",
    "\n",
    "\"Dolomites are mainly produced by the secondary alteration or replacement of limestones; i.e., the mineral dolomite `CaMg(CO3)2` replaces the calcite and aragonite minerals in limestones during diagenesis.\"\n",
    "\n",
    "Siliciclastic rock is distinct from carbonate rock (although there can be hybrids)"
   ]
  },
  {
   "cell_type": "code",
   "execution_count": 7,
   "metadata": {},
   "outputs": [],
   "source": [
    "geos = pd.read_csv('data/geo/geology_of_geologies.txt')"
   ]
  },
  {
   "cell_type": "code",
   "execution_count": 9,
   "metadata": {},
   "outputs": [
    {
     "data": {
      "text/html": [
       "<div>\n",
       "<style scoped>\n",
       "    .dataframe tbody tr th:only-of-type {\n",
       "        vertical-align: middle;\n",
       "    }\n",
       "\n",
       "    .dataframe tbody tr th {\n",
       "        vertical-align: top;\n",
       "    }\n",
       "\n",
       "    .dataframe thead th {\n",
       "        text-align: right;\n",
       "    }\n",
       "</style>\n",
       "<table border=\"1\" class=\"dataframe\">\n",
       "  <thead>\n",
       "    <tr style=\"text-align: right;\">\n",
       "      <th></th>\n",
       "      <th>Station</th>\n",
       "      <th>GeologicalUnit</th>\n",
       "      <th>ItalianDescription</th>\n",
       "      <th>EnglishDescription</th>\n",
       "      <th>Period</th>\n",
       "    </tr>\n",
       "  </thead>\n",
       "  <tbody>\n",
       "    <tr>\n",
       "      <th>18</th>\n",
       "      <td>Mangona</td>\n",
       "      <td>AQR1</td>\n",
       "      <td>Membro arenaceo-pelitico</td>\n",
       "      <td>Arenaceous-pelitic member</td>\n",
       "      <td>CHATTIANO - BURDIGALIANO</td>\n",
       "    </tr>\n",
       "  </tbody>\n",
       "</table>\n",
       "</div>"
      ],
      "text/plain": [
       "    Station GeologicalUnit        ItalianDescription  \\\n",
       "18  Mangona           AQR1  Membro arenaceo-pelitico   \n",
       "\n",
       "           EnglishDescription                    Period  \n",
       "18  Arenaceous-pelitic member  CHATTIANO - BURDIGALIANO  "
      ]
     },
     "execution_count": 9,
     "metadata": {},
     "output_type": "execute_result"
    }
   ],
   "source": [
    "c1 = geos['Station'] == 'Mangona'\n",
    "geos[c1]"
   ]
  },
  {
   "cell_type": "markdown",
   "metadata": {},
   "source": [
    "**Arenaceous**: \"a sedimentary clastic rock with sand grain size 0.0625mm–2mm containing less than 15% matrix\"\n",
    "\n",
    "\"Since it refers to grain size rather than chemical composition, the term is used for example in the classification of clastic carbonatic limestones, as the granulometrically equivalent term sandstone is not appropriate for limestone.\"\n",
    "\n",
    "**Pelitic**: \"a metamorphosed fine-grained sedimentary rock, i.e. **mudstone** or **siltstone**\"\n",
    "\n",
    "\"The Ancient Greek terms are more commonly used for metamorphosed rocks, and the Latin for unmetamorphosed\" [pelitic is greek; \"lutite\" is latin]\n",
    "\n",
    "\"Lutites include a variety of fine-grained sedimentary rocks, including **calcisiltite**, **calcilutite**, **claystone**, **mudstone**, **shale**, and **siltstone**\"\n",
    "\n",
    "\"When mixed with water lutites often disintegrate into mud\""
   ]
  },
  {
   "cell_type": "markdown",
   "metadata": {},
   "source": [
    "### Geological Conclusions\n",
    "\n",
    "An **arenaceous** **pelitic** rock is composed of small, fine grains. But in order to determine **porosity** and **permeability**, we need to know more about its chemical composition: Is the geology around Mangona more **siliciclastic** or more **carbonate**? For instance:\n",
    "\n",
    "> \"Quartz [siliciclastic] arenites are very clean quartz sandstones with unusually high permeabilities for any given porosity.\"\n",
    "\n",
    "Versus:\n",
    "\n",
    "> \"Unlike most sandstone reservoirs, which typically are single-porosity systems (i.e., interparticle pores) of relative uniform (homogeneous) nature, reservoirs in carbonate rocks commonly are multiple-porosity systems that characteristically impart petrophysical heterogeneity to the reservoirs\"\n",
    "\n",
    "In other words, the porosity and permeability of siliciclastic rocks is quite different from those of carbonate rocks."
   ]
  },
  {
   "cell_type": "markdown",
   "metadata": {},
   "source": [
    "### Unscientific Postscript\n",
    "\n",
    "According to https://www.geological-map.it/, the area around Mangona is known as the \"Cervarola-Falterona Succession.\"\n",
    "\n",
    "According to [Geologic Problem Solving with Microfossils](https://books.google.com/books?id=-AFkJkSUdDMC), on page 316, the Cervarola-Falterona succession is \"characterized by the occurrence of several slices of pre-foredeep marls and thin-bedded turbidite sandstones.\"\n",
    "\n",
    "Marl is carbonate, sandstone siliciclastic.\n",
    "\n",
    "Both.\n",
    "\n",
    "It's both."
   ]
  },
  {
   "cell_type": "code",
   "execution_count": null,
   "metadata": {},
   "outputs": [],
   "source": []
  }
 ],
 "metadata": {
  "kernelspec": {
   "display_name": "Python 3",
   "language": "python",
   "name": "python3"
  },
  "language_info": {
   "codemirror_mode": {
    "name": "ipython",
    "version": 3
   },
   "file_extension": ".py",
   "mimetype": "text/x-python",
   "name": "python",
   "nbconvert_exporter": "python",
   "pygments_lexer": "ipython3",
   "version": "3.6.9"
  }
 },
 "nbformat": 4,
 "nbformat_minor": 2
}
