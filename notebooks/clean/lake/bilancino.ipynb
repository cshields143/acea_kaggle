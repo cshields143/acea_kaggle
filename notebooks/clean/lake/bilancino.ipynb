{
 "cells": [
  {
   "cell_type": "code",
   "execution_count": 1,
   "metadata": {},
   "outputs": [],
   "source": [
    "import pandas as pd\n",
    "from datetime import datetime\n",
    "from sklearn.preprocessing import StandardScaler"
   ]
  },
  {
   "cell_type": "code",
   "execution_count": 2,
   "metadata": {},
   "outputs": [],
   "source": [
    "df = pd.read_csv('../../../data/raw/lake/bilancino.csv')\n",
    "\n",
    "# dates are in format DD/MM/YYYY\n",
    "# convert to this explicitly\n",
    "df['Date'] = pd.to_datetime(df['Date'], format='%d/%m/%Y')\n",
    "\n",
    "# all rainfall and temperature data is missing until\n",
    "# early 2004; drop these earlier rows\n",
    "df = df[df['Date'] > datetime(2004, 1, 1)]"
   ]
  },
  {
   "cell_type": "code",
   "execution_count": 3,
   "metadata": {},
   "outputs": [],
   "source": [
    "# center & standardize\n",
    "\n",
    "# we have to picky about the date, which is an invalid data type\n",
    "sansdate = df.drop('Date', axis=1)\n",
    "\n",
    "scaler = StandardScaler()\n",
    "X = scaler.fit_transform(sansdate.values)\n",
    "df2 = pd.DataFrame(X, columns=sansdate.columns)\n",
    "\n",
    "# add the dates back in\n",
    "df2['Date'] = df['Date'].reset_index(drop=True)"
   ]
  },
  {
   "cell_type": "code",
   "execution_count": 4,
   "metadata": {},
   "outputs": [],
   "source": [
    "df2.to_csv('../../../data/clean/lake/bilancino.csv', index=False)"
   ]
  }
 ],
 "metadata": {
  "kernelspec": {
   "display_name": "acea-KYwgFBtm-py3.8",
   "language": "python",
   "name": "acea-kywgfbtm-py3.8"
  },
  "language_info": {
   "codemirror_mode": {
    "name": "ipython",
    "version": 3
   },
   "file_extension": ".py",
   "mimetype": "text/x-python",
   "name": "python",
   "nbconvert_exporter": "python",
   "pygments_lexer": "ipython3",
   "version": "3.8.5"
  }
 },
 "nbformat": 4,
 "nbformat_minor": 4
}
