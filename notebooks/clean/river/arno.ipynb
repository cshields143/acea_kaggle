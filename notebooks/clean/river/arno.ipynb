{
 "cells": [
  {
   "cell_type": "code",
   "execution_count": 1,
   "metadata": {},
   "outputs": [],
   "source": [
    "import pandas as pd\n",
    "from datetime import datetime\n",
    "from sklearn.preprocessing import StandardScaler\n",
    "import miceforest as mf"
   ]
  },
  {
   "cell_type": "code",
   "execution_count": 2,
   "metadata": {},
   "outputs": [
    {
     "name": "stdout",
     "output_type": "stream",
     "text": [
      "Dataset 0\n",
      "1  | Temperature_Firenze | Hydrometry_Nave_di_Rosano\n",
      "2  | Temperature_Firenze | Hydrometry_Nave_di_Rosano\n",
      "3  | Temperature_Firenze | Hydrometry_Nave_di_Rosano\n",
      "Dataset 1\n",
      "1  | Temperature_Firenze | Hydrometry_Nave_di_Rosano\n",
      "2  | Temperature_Firenze | Hydrometry_Nave_di_Rosano\n",
      "3  | Temperature_Firenze | Hydrometry_Nave_di_Rosano\n",
      "Dataset 2\n",
      "1  | Temperature_Firenze | Hydrometry_Nave_di_Rosano\n",
      "2  | Temperature_Firenze | Hydrometry_Nave_di_Rosano\n",
      "3  | Temperature_Firenze | Hydrometry_Nave_di_Rosano\n",
      "Dataset 3\n",
      "1  | Temperature_Firenze | Hydrometry_Nave_di_Rosano\n",
      "2  | Temperature_Firenze | Hydrometry_Nave_di_Rosano\n",
      "3  | Temperature_Firenze | Hydrometry_Nave_di_Rosano\n",
      "Dataset 4\n",
      "1  | Temperature_Firenze | Hydrometry_Nave_di_Rosano\n",
      "2  | Temperature_Firenze | Hydrometry_Nave_di_Rosano\n",
      "3  | Temperature_Firenze | Hydrometry_Nave_di_Rosano\n"
     ]
    }
   ],
   "source": [
    "df = pd.read_csv('../../../data/raw/river/arno.csv')\n",
    "\n",
    "# some of our features are missing loads of datapoints;\n",
    "# the thinking here is: if the amount of rainfall at a\n",
    "# certain location hasn't been measured in 13 years,\n",
    "# are we to expect it will suddenly come into play for\n",
    "# new predictions? drop these \"legacy\" features\n",
    "df = df.drop([\n",
    "    'Rainfall_Vernio', 'Rainfall_Stia', 'Rainfall_Consuma', 'Rainfall_Incisa',\n",
    "    'Rainfall_Montevarchi', 'Rainfall_S_Savino', 'Rainfall_Laterina',\n",
    "    'Rainfall_Bibbiena', 'Rainfall_Camaldoli'\n",
    "], axis=1)\n",
    "\n",
    "# dates are in format DD/MM/YYYY\n",
    "# convert to this explicitly\n",
    "df['Date'] = pd.to_datetime(df['Date'], format='%d/%m/%Y')\n",
    "\n",
    "# we have temperature data going back to 2000,\n",
    "# but none of the rainfall data starts until 2004\n",
    "df = df[df['Date'] > datetime(2003, 12, 31)]\n",
    "\n",
    "# temperature data only goes through 2017\n",
    "df = df[df['Date'] < datetime(2017, 3, 9)]\n",
    "\n",
    "# there are still a few 0s in the target that\n",
    "# should be null; nullify them\n",
    "df['Hydrometry_Nave_di_Rosano'] = df['Hydrometry_Nave_di_Rosano'].replace(0, float('nan'))\n",
    "\n",
    "# use multiple imputation to do single imputation;\n",
    "# be picky about the date, an invalid datatype\n",
    "kernel = mf.MultipleImputedKernel(\n",
    "    data=df.drop('Date', axis=1),\n",
    "    save_all_iterations=True,\n",
    "    random_state=143\n",
    ")\n",
    "kernel.mice(3, verbose=True)\n",
    "d = df['Date']\n",
    "df = kernel.impute_new_data(df.drop('Date', axis=1)).complete_data(0)\n",
    "df['Date'] = d"
   ]
  },
  {
   "cell_type": "code",
   "execution_count": 3,
   "metadata": {},
   "outputs": [],
   "source": [
    "# center & standardize\n",
    "\n",
    "# we have to picky about the date, which is an invalid data type\n",
    "sansdate = df.drop('Date', axis=1)\n",
    "\n",
    "scaler = StandardScaler()\n",
    "X = scaler.fit_transform(sansdate.values)\n",
    "df2 = pd.DataFrame(X, columns=sansdate.columns)\n",
    "\n",
    "# add the dates back in\n",
    "df2['Date'] = df['Date'].reset_index(drop=True)"
   ]
  },
  {
   "cell_type": "code",
   "execution_count": 4,
   "metadata": {},
   "outputs": [],
   "source": [
    "df2.to_csv('../../../data/clean/river/arno.csv', index=False)"
   ]
  }
 ],
 "metadata": {
  "kernelspec": {
   "display_name": "acea-KYwgFBtm-py3.8",
   "language": "python",
   "name": "acea-kywgfbtm-py3.8"
  },
  "language_info": {
   "codemirror_mode": {
    "name": "ipython",
    "version": 3
   },
   "file_extension": ".py",
   "mimetype": "text/x-python",
   "name": "python",
   "nbconvert_exporter": "python",
   "pygments_lexer": "ipython3",
   "version": "3.8.5"
  }
 },
 "nbformat": 4,
 "nbformat_minor": 4
}
