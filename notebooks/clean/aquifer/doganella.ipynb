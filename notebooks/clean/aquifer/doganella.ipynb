{
 "cells": [
  {
   "cell_type": "code",
   "execution_count": 1,
   "metadata": {},
   "outputs": [],
   "source": [
    "import pandas as pd\n",
    "from datetime import datetime\n",
    "from sklearn.preprocessing import StandardScaler\n",
    "import miceforest as mf"
   ]
  },
  {
   "cell_type": "code",
   "execution_count": 2,
   "metadata": {},
   "outputs": [
    {
     "name": "stdout",
     "output_type": "stream",
     "text": [
      "Dataset 0\n",
      "1  | Rainfall_Monteporzio | Rainfall_Velletri | Depth_to_Groundwater_Pozzo_1 | Depth_to_Groundwater_Pozzo_2 | Depth_to_Groundwater_Pozzo_3 | Depth_to_Groundwater_Pozzo_4 | Depth_to_Groundwater_Pozzo_5 | Depth_to_Groundwater_Pozzo_6 | Depth_to_Groundwater_Pozzo_7 | Depth_to_Groundwater_Pozzo_8 | Depth_to_Groundwater_Pozzo_9 | Volume_Pozzo_1 | Volume_Pozzo_2 | Volume_Pozzo_3 | Volume_Pozzo_4 | Volume_Pozzo_5+6 | Volume_Pozzo_7 | Volume_Pozzo_8 | Volume_Pozzo_9 | Temperature_Monteporzio | Temperature_Velletri\n",
      "2  | Rainfall_Monteporzio | Rainfall_Velletri | Depth_to_Groundwater_Pozzo_1 | Depth_to_Groundwater_Pozzo_2 | Depth_to_Groundwater_Pozzo_3 | Depth_to_Groundwater_Pozzo_4 | Depth_to_Groundwater_Pozzo_5 | Depth_to_Groundwater_Pozzo_6 | Depth_to_Groundwater_Pozzo_7 | Depth_to_Groundwater_Pozzo_8 | Depth_to_Groundwater_Pozzo_9 | Volume_Pozzo_1 | Volume_Pozzo_2 | Volume_Pozzo_3 | Volume_Pozzo_4 | Volume_Pozzo_5+6 | Volume_Pozzo_7 | Volume_Pozzo_8 | Volume_Pozzo_9 | Temperature_Monteporzio | Temperature_Velletri\n",
      "3  | Rainfall_Monteporzio | Rainfall_Velletri | Depth_to_Groundwater_Pozzo_1 | Depth_to_Groundwater_Pozzo_2 | Depth_to_Groundwater_Pozzo_3 | Depth_to_Groundwater_Pozzo_4 | Depth_to_Groundwater_Pozzo_5 | Depth_to_Groundwater_Pozzo_6 | Depth_to_Groundwater_Pozzo_7 | Depth_to_Groundwater_Pozzo_8 | Depth_to_Groundwater_Pozzo_9 | Volume_Pozzo_1 | Volume_Pozzo_2 | Volume_Pozzo_3 | Volume_Pozzo_4 | Volume_Pozzo_5+6 | Volume_Pozzo_7 | Volume_Pozzo_8 | Volume_Pozzo_9 | Temperature_Monteporzio | Temperature_Velletri\n",
      "Dataset 1\n",
      "1  | Rainfall_Monteporzio | Rainfall_Velletri | Depth_to_Groundwater_Pozzo_1 | Depth_to_Groundwater_Pozzo_2 | Depth_to_Groundwater_Pozzo_3 | Depth_to_Groundwater_Pozzo_4 | Depth_to_Groundwater_Pozzo_5 | Depth_to_Groundwater_Pozzo_6 | Depth_to_Groundwater_Pozzo_7 | Depth_to_Groundwater_Pozzo_8 | Depth_to_Groundwater_Pozzo_9 | Volume_Pozzo_1 | Volume_Pozzo_2 | Volume_Pozzo_3 | Volume_Pozzo_4 | Volume_Pozzo_5+6 | Volume_Pozzo_7 | Volume_Pozzo_8 | Volume_Pozzo_9 | Temperature_Monteporzio | Temperature_Velletri\n",
      "2  | Rainfall_Monteporzio | Rainfall_Velletri | Depth_to_Groundwater_Pozzo_1 | Depth_to_Groundwater_Pozzo_2 | Depth_to_Groundwater_Pozzo_3 | Depth_to_Groundwater_Pozzo_4 | Depth_to_Groundwater_Pozzo_5 | Depth_to_Groundwater_Pozzo_6 | Depth_to_Groundwater_Pozzo_7 | Depth_to_Groundwater_Pozzo_8 | Depth_to_Groundwater_Pozzo_9 | Volume_Pozzo_1 | Volume_Pozzo_2 | Volume_Pozzo_3 | Volume_Pozzo_4 | Volume_Pozzo_5+6 | Volume_Pozzo_7 | Volume_Pozzo_8 | Volume_Pozzo_9 | Temperature_Monteporzio | Temperature_Velletri\n",
      "3  | Rainfall_Monteporzio | Rainfall_Velletri | Depth_to_Groundwater_Pozzo_1 | Depth_to_Groundwater_Pozzo_2 | Depth_to_Groundwater_Pozzo_3 | Depth_to_Groundwater_Pozzo_4 | Depth_to_Groundwater_Pozzo_5 | Depth_to_Groundwater_Pozzo_6 | Depth_to_Groundwater_Pozzo_7 | Depth_to_Groundwater_Pozzo_8 | Depth_to_Groundwater_Pozzo_9 | Volume_Pozzo_1 | Volume_Pozzo_2 | Volume_Pozzo_3 | Volume_Pozzo_4 | Volume_Pozzo_5+6 | Volume_Pozzo_7 | Volume_Pozzo_8 | Volume_Pozzo_9 | Temperature_Monteporzio | Temperature_Velletri\n",
      "Dataset 2\n",
      "1  | Rainfall_Monteporzio | Rainfall_Velletri | Depth_to_Groundwater_Pozzo_1 | Depth_to_Groundwater_Pozzo_2 | Depth_to_Groundwater_Pozzo_3 | Depth_to_Groundwater_Pozzo_4 | Depth_to_Groundwater_Pozzo_5 | Depth_to_Groundwater_Pozzo_6 | Depth_to_Groundwater_Pozzo_7 | Depth_to_Groundwater_Pozzo_8 | Depth_to_Groundwater_Pozzo_9 | Volume_Pozzo_1 | Volume_Pozzo_2 | Volume_Pozzo_3 | Volume_Pozzo_4 | Volume_Pozzo_5+6 | Volume_Pozzo_7 | Volume_Pozzo_8 | Volume_Pozzo_9 | Temperature_Monteporzio | Temperature_Velletri\n",
      "2  | Rainfall_Monteporzio | Rainfall_Velletri | Depth_to_Groundwater_Pozzo_1 | Depth_to_Groundwater_Pozzo_2 | Depth_to_Groundwater_Pozzo_3 | Depth_to_Groundwater_Pozzo_4 | Depth_to_Groundwater_Pozzo_5 | Depth_to_Groundwater_Pozzo_6 | Depth_to_Groundwater_Pozzo_7 | Depth_to_Groundwater_Pozzo_8 | Depth_to_Groundwater_Pozzo_9 | Volume_Pozzo_1 | Volume_Pozzo_2 | Volume_Pozzo_3 | Volume_Pozzo_4 | Volume_Pozzo_5+6 | Volume_Pozzo_7 | Volume_Pozzo_8 | Volume_Pozzo_9 | Temperature_Monteporzio | Temperature_Velletri\n",
      "3  | Rainfall_Monteporzio | Rainfall_Velletri | Depth_to_Groundwater_Pozzo_1 | Depth_to_Groundwater_Pozzo_2 | Depth_to_Groundwater_Pozzo_3 | Depth_to_Groundwater_Pozzo_4 | Depth_to_Groundwater_Pozzo_5 | Depth_to_Groundwater_Pozzo_6 | Depth_to_Groundwater_Pozzo_7 | Depth_to_Groundwater_Pozzo_8 | Depth_to_Groundwater_Pozzo_9 | Volume_Pozzo_1 | Volume_Pozzo_2 | Volume_Pozzo_3 | Volume_Pozzo_4 | Volume_Pozzo_5+6 | Volume_Pozzo_7 | Volume_Pozzo_8 | Volume_Pozzo_9 | Temperature_Monteporzio | Temperature_Velletri\n",
      "Dataset 3\n",
      "1  | Rainfall_Monteporzio | Rainfall_Velletri | Depth_to_Groundwater_Pozzo_1 | Depth_to_Groundwater_Pozzo_2 | Depth_to_Groundwater_Pozzo_3 | Depth_to_Groundwater_Pozzo_4 | Depth_to_Groundwater_Pozzo_5 | Depth_to_Groundwater_Pozzo_6 | Depth_to_Groundwater_Pozzo_7 | Depth_to_Groundwater_Pozzo_8 | Depth_to_Groundwater_Pozzo_9 | Volume_Pozzo_1 | Volume_Pozzo_2 | Volume_Pozzo_3 | Volume_Pozzo_4 | Volume_Pozzo_5+6 | Volume_Pozzo_7 | Volume_Pozzo_8 | Volume_Pozzo_9 | Temperature_Monteporzio | Temperature_Velletri\n",
      "2  | Rainfall_Monteporzio | Rainfall_Velletri | Depth_to_Groundwater_Pozzo_1 | Depth_to_Groundwater_Pozzo_2 | Depth_to_Groundwater_Pozzo_3 | Depth_to_Groundwater_Pozzo_4 | Depth_to_Groundwater_Pozzo_5 | Depth_to_Groundwater_Pozzo_6 | Depth_to_Groundwater_Pozzo_7 | Depth_to_Groundwater_Pozzo_8 | Depth_to_Groundwater_Pozzo_9 | Volume_Pozzo_1 | Volume_Pozzo_2 | Volume_Pozzo_3 | Volume_Pozzo_4 | Volume_Pozzo_5+6 | Volume_Pozzo_7 | Volume_Pozzo_8 | Volume_Pozzo_9 | Temperature_Monteporzio | Temperature_Velletri\n",
      "3  | Rainfall_Monteporzio | Rainfall_Velletri | Depth_to_Groundwater_Pozzo_1 | Depth_to_Groundwater_Pozzo_2 | Depth_to_Groundwater_Pozzo_3 | Depth_to_Groundwater_Pozzo_4 | Depth_to_Groundwater_Pozzo_5 | Depth_to_Groundwater_Pozzo_6 | Depth_to_Groundwater_Pozzo_7 | Depth_to_Groundwater_Pozzo_8 | Depth_to_Groundwater_Pozzo_9 | Volume_Pozzo_1 | Volume_Pozzo_2 | Volume_Pozzo_3 | Volume_Pozzo_4 | Volume_Pozzo_5+6 | Volume_Pozzo_7 | Volume_Pozzo_8 | Volume_Pozzo_9 | Temperature_Monteporzio | Temperature_Velletri\n",
      "Dataset 4\n",
      "1  | Rainfall_Monteporzio | Rainfall_Velletri | Depth_to_Groundwater_Pozzo_1 | Depth_to_Groundwater_Pozzo_2 | Depth_to_Groundwater_Pozzo_3 | Depth_to_Groundwater_Pozzo_4 | Depth_to_Groundwater_Pozzo_5 | Depth_to_Groundwater_Pozzo_6 | Depth_to_Groundwater_Pozzo_7 | Depth_to_Groundwater_Pozzo_8 | Depth_to_Groundwater_Pozzo_9 | Volume_Pozzo_1 | Volume_Pozzo_2 | Volume_Pozzo_3 | Volume_Pozzo_4 | Volume_Pozzo_5+6 | Volume_Pozzo_7 | Volume_Pozzo_8 | Volume_Pozzo_9 | Temperature_Monteporzio | Temperature_Velletri\n",
      "2  | Rainfall_Monteporzio | Rainfall_Velletri | Depth_to_Groundwater_Pozzo_1 | Depth_to_Groundwater_Pozzo_2 | Depth_to_Groundwater_Pozzo_3 | Depth_to_Groundwater_Pozzo_4 | Depth_to_Groundwater_Pozzo_5 | Depth_to_Groundwater_Pozzo_6 | Depth_to_Groundwater_Pozzo_7 | Depth_to_Groundwater_Pozzo_8 | Depth_to_Groundwater_Pozzo_9 | Volume_Pozzo_1 | Volume_Pozzo_2 | Volume_Pozzo_3 | Volume_Pozzo_4 | Volume_Pozzo_5+6 | Volume_Pozzo_7 | Volume_Pozzo_8 | Volume_Pozzo_9 | Temperature_Monteporzio | Temperature_Velletri\n",
      "3  | Rainfall_Monteporzio | Rainfall_Velletri | Depth_to_Groundwater_Pozzo_1 | Depth_to_Groundwater_Pozzo_2 | Depth_to_Groundwater_Pozzo_3 | Depth_to_Groundwater_Pozzo_4 | Depth_to_Groundwater_Pozzo_5 | Depth_to_Groundwater_Pozzo_6 | Depth_to_Groundwater_Pozzo_7 | Depth_to_Groundwater_Pozzo_8 | Depth_to_Groundwater_Pozzo_9 | Volume_Pozzo_1 | Volume_Pozzo_2 | Volume_Pozzo_3 | Volume_Pozzo_4 | Volume_Pozzo_5+6 | Volume_Pozzo_7 | Volume_Pozzo_8 | Volume_Pozzo_9 | Temperature_Monteporzio | Temperature_Velletri\n"
     ]
    }
   ],
   "source": [
    "df = pd.read_csv('../../../data/raw/aquifer/doganella.csv')\n",
    "\n",
    "# dates are in format DD/MM/YYYY\n",
    "# convert to this explicitly\n",
    "df['Date'] = pd.to_datetime(df['Date'], format='%d/%m/%Y')\n",
    "\n",
    "# target data does not exist prior to 2012\n",
    "df = df[df['Date'] > datetime(2012, 5, 31)]\n",
    "\n",
    "# only use absolute value of targets\n",
    "targs = [f\"Depth_to_Groundwater_Pozzo_{x+1}\" for x in range(9)]\n",
    "for c in targs:\n",
    "    df[c] = df[c].abs()\n",
    "\n",
    "# use multiple imputation to do single imputation;\n",
    "# be picky about the date, an invalid datatype\n",
    "kernel = mf.MultipleImputedKernel(\n",
    "    data=df.drop('Date', axis=1),\n",
    "    save_all_iterations=True,\n",
    "    random_state=143\n",
    ")\n",
    "kernel.mice(3, verbose=True)\n",
    "d = df['Date']\n",
    "df = kernel.impute_new_data(df.drop('Date', axis=1)).complete_data(0)\n",
    "df['Date'] = d\n",
    "\n",
    "# center & standardize\n",
    "scaler = StandardScaler()\n",
    "X = scaler.fit_transform(df.drop('Date', axis=1).values)\n",
    "df = pd.DataFrame(X, columns=df.drop('Date', axis=1).columns)\n",
    "df['Date'] = d.reset_index(drop=True)"
   ]
  },
  {
   "cell_type": "code",
   "execution_count": 3,
   "metadata": {},
   "outputs": [],
   "source": [
    "df.to_csv('../../../data/clean/aquifer/doganella.csv', index=False)"
   ]
  }
 ],
 "metadata": {
  "kernelspec": {
   "display_name": "acea-KYwgFBtm-py3.8",
   "language": "python",
   "name": "acea-kywgfbtm-py3.8"
  },
  "language_info": {
   "codemirror_mode": {
    "name": "ipython",
    "version": 3
   },
   "file_extension": ".py",
   "mimetype": "text/x-python",
   "name": "python",
   "nbconvert_exporter": "python",
   "pygments_lexer": "ipython3",
   "version": "3.8.5"
  }
 },
 "nbformat": 4,
 "nbformat_minor": 4
}
