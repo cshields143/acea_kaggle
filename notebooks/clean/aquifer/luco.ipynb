{
 "cells": [
  {
   "cell_type": "code",
   "execution_count": 1,
   "metadata": {},
   "outputs": [],
   "source": [
    "import pandas as pd\n",
    "from datetime import datetime\n",
    "from sklearn.preprocessing import StandardScaler\n",
    "import miceforest as mf"
   ]
  },
  {
   "cell_type": "code",
   "execution_count": 2,
   "metadata": {},
   "outputs": [
    {
     "name": "stdout",
     "output_type": "stream",
     "text": [
      "Dataset 0\n",
      "1  | Rainfall_Simignano | Rainfall_Montalcinello | Rainfall_Monticiano_la_Pineta | Rainfall_Sovicille | Rainfall_Scorgiano | Rainfall_Pentolina | Rainfall_Monteroni_Arbia_Biena | Depth_to_Groundwater_Podere_Casetta | Temperature_Pentolina | Temperature_Monteroni_Arbia_Biena | Volume_Pozzo_1 | Volume_Pozzo_3 | Volume_Pozzo_4\n",
      "2  | Rainfall_Simignano | Rainfall_Montalcinello | Rainfall_Monticiano_la_Pineta | Rainfall_Sovicille | Rainfall_Scorgiano | Rainfall_Pentolina | Rainfall_Monteroni_Arbia_Biena | Depth_to_Groundwater_Podere_Casetta | Temperature_Pentolina | Temperature_Monteroni_Arbia_Biena | Volume_Pozzo_1 | Volume_Pozzo_3 | Volume_Pozzo_4\n",
      "3  | Rainfall_Simignano | Rainfall_Montalcinello | Rainfall_Monticiano_la_Pineta | Rainfall_Sovicille | Rainfall_Scorgiano | Rainfall_Pentolina | Rainfall_Monteroni_Arbia_Biena | Depth_to_Groundwater_Podere_Casetta | Temperature_Pentolina | Temperature_Monteroni_Arbia_Biena | Volume_Pozzo_1 | Volume_Pozzo_3 | Volume_Pozzo_4\n",
      "Dataset 1\n",
      "1  | Rainfall_Simignano | Rainfall_Montalcinello | Rainfall_Monticiano_la_Pineta | Rainfall_Sovicille | Rainfall_Scorgiano | Rainfall_Pentolina | Rainfall_Monteroni_Arbia_Biena | Depth_to_Groundwater_Podere_Casetta | Temperature_Pentolina | Temperature_Monteroni_Arbia_Biena | Volume_Pozzo_1 | Volume_Pozzo_3 | Volume_Pozzo_4\n",
      "2  | Rainfall_Simignano | Rainfall_Montalcinello | Rainfall_Monticiano_la_Pineta | Rainfall_Sovicille | Rainfall_Scorgiano | Rainfall_Pentolina | Rainfall_Monteroni_Arbia_Biena | Depth_to_Groundwater_Podere_Casetta | Temperature_Pentolina | Temperature_Monteroni_Arbia_Biena | Volume_Pozzo_1 | Volume_Pozzo_3 | Volume_Pozzo_4\n",
      "3  | Rainfall_Simignano | Rainfall_Montalcinello | Rainfall_Monticiano_la_Pineta | Rainfall_Sovicille | Rainfall_Scorgiano | Rainfall_Pentolina | Rainfall_Monteroni_Arbia_Biena | Depth_to_Groundwater_Podere_Casetta | Temperature_Pentolina | Temperature_Monteroni_Arbia_Biena | Volume_Pozzo_1 | Volume_Pozzo_3 | Volume_Pozzo_4\n",
      "Dataset 2\n",
      "1  | Rainfall_Simignano | Rainfall_Montalcinello | Rainfall_Monticiano_la_Pineta | Rainfall_Sovicille | Rainfall_Scorgiano | Rainfall_Pentolina | Rainfall_Monteroni_Arbia_Biena | Depth_to_Groundwater_Podere_Casetta | Temperature_Pentolina | Temperature_Monteroni_Arbia_Biena | Volume_Pozzo_1 | Volume_Pozzo_3 | Volume_Pozzo_4\n",
      "2  | Rainfall_Simignano | Rainfall_Montalcinello | Rainfall_Monticiano_la_Pineta | Rainfall_Sovicille | Rainfall_Scorgiano | Rainfall_Pentolina | Rainfall_Monteroni_Arbia_Biena | Depth_to_Groundwater_Podere_Casetta | Temperature_Pentolina | Temperature_Monteroni_Arbia_Biena | Volume_Pozzo_1 | Volume_Pozzo_3 | Volume_Pozzo_4\n",
      "3  | Rainfall_Simignano | Rainfall_Montalcinello | Rainfall_Monticiano_la_Pineta | Rainfall_Sovicille | Rainfall_Scorgiano | Rainfall_Pentolina | Rainfall_Monteroni_Arbia_Biena | Depth_to_Groundwater_Podere_Casetta | Temperature_Pentolina | Temperature_Monteroni_Arbia_Biena | Volume_Pozzo_1 | Volume_Pozzo_3 | Volume_Pozzo_4\n",
      "Dataset 3\n",
      "1  | Rainfall_Simignano | Rainfall_Montalcinello | Rainfall_Monticiano_la_Pineta | Rainfall_Sovicille | Rainfall_Scorgiano | Rainfall_Pentolina | Rainfall_Monteroni_Arbia_Biena | Depth_to_Groundwater_Podere_Casetta | Temperature_Pentolina | Temperature_Monteroni_Arbia_Biena | Volume_Pozzo_1 | Volume_Pozzo_3 | Volume_Pozzo_4\n",
      "2  | Rainfall_Simignano | Rainfall_Montalcinello | Rainfall_Monticiano_la_Pineta | Rainfall_Sovicille | Rainfall_Scorgiano | Rainfall_Pentolina | Rainfall_Monteroni_Arbia_Biena | Depth_to_Groundwater_Podere_Casetta | Temperature_Pentolina | Temperature_Monteroni_Arbia_Biena | Volume_Pozzo_1 | Volume_Pozzo_3 | Volume_Pozzo_4\n",
      "3  | Rainfall_Simignano | Rainfall_Montalcinello | Rainfall_Monticiano_la_Pineta | Rainfall_Sovicille | Rainfall_Scorgiano | Rainfall_Pentolina | Rainfall_Monteroni_Arbia_Biena | Depth_to_Groundwater_Podere_Casetta | Temperature_Pentolina | Temperature_Monteroni_Arbia_Biena | Volume_Pozzo_1 | Volume_Pozzo_3 | Volume_Pozzo_4\n",
      "Dataset 4\n",
      "1  | Rainfall_Simignano | Rainfall_Montalcinello | Rainfall_Monticiano_la_Pineta | Rainfall_Sovicille | Rainfall_Scorgiano | Rainfall_Pentolina | Rainfall_Monteroni_Arbia_Biena | Depth_to_Groundwater_Podere_Casetta | Temperature_Pentolina | Temperature_Monteroni_Arbia_Biena | Volume_Pozzo_1 | Volume_Pozzo_3 | Volume_Pozzo_4\n",
      "2  | Rainfall_Simignano | Rainfall_Montalcinello | Rainfall_Monticiano_la_Pineta | Rainfall_Sovicille | Rainfall_Scorgiano | Rainfall_Pentolina | Rainfall_Monteroni_Arbia_Biena | Depth_to_Groundwater_Podere_Casetta | Temperature_Pentolina | Temperature_Monteroni_Arbia_Biena | Volume_Pozzo_1 | Volume_Pozzo_3 | Volume_Pozzo_4\n",
      "3  | Rainfall_Simignano | Rainfall_Montalcinello | Rainfall_Monticiano_la_Pineta | Rainfall_Sovicille | Rainfall_Scorgiano | Rainfall_Pentolina | Rainfall_Monteroni_Arbia_Biena | Depth_to_Groundwater_Podere_Casetta | Temperature_Pentolina | Temperature_Monteroni_Arbia_Biena | Volume_Pozzo_1 | Volume_Pozzo_3 | Volume_Pozzo_4\n"
     ]
    }
   ],
   "source": [
    "df = pd.read_csv('../../../data/raw/aquifer/luco.csv')\n",
    "\n",
    "# dates are in format DD/MM/YYYY\n",
    "# convert to this explicitly\n",
    "df['Date'] = pd.to_datetime(df['Date'], format='%d/%m/%Y')\n",
    "\n",
    "# target data doesn't start until 2/21/08, ends on 1/12/19\n",
    "df = df[df['Date'] > datetime(2008, 2, 20)]\n",
    "df = df[df['Date'] < datetime(2019, 1, 12)]\n",
    "\n",
    "# some features are missing too many values, just drop them\n",
    "df = df.drop([\n",
    "    'Rainfall_Siena_Poggio_al_Vento',\n",
    "    'Rainfall_Mensano',\n",
    "    'Rainfall_Ponte_Orgia',\n",
    "    'Depth_to_Groundwater_Pozzo_1',\n",
    "    'Depth_to_Groundwater_Pozzo_3',\n",
    "    'Depth_to_Groundwater_Pozzo_4',\n",
    "    'Temperature_Siena_Poggio_al_Vento',\n",
    "    'Temperature_Mensano'\n",
    "], axis=1)\n",
    "\n",
    "# replace 0s that mean NaN with NaN\n",
    "frames = [\n",
    "    ('Temperature_Pentolina', datetime(2018, 1, 1), -1),\n",
    "    ('Temperature_Monteroni_Arbia_Biena', datetime(2015, 1, 1), 1)\n",
    "]\n",
    "for c, d, dr in frames:\n",
    "    c1 = df[c] == 0\n",
    "    c2 = df['Date'] > d if dr > 0 else df['Date'] < d\n",
    "    df.loc[df[c1 & c2].index, c] = float('nan')\n",
    "\n",
    "# use absolute values where needed\n",
    "needabs = [\n",
    "    'Depth_to_Groundwater_Podere_Casetta',\n",
    "    'Volume_Pozzo_1',\n",
    "    'Volume_Pozzo_3',\n",
    "    'Volume_Pozzo_4'\n",
    "]\n",
    "for c in needabs:\n",
    "    df[c] = df[c].abs()\n",
    "\n",
    "# use multiple imputation to do single imputation;\n",
    "# be picky about the date, an invalid datatype\n",
    "kernel = mf.MultipleImputedKernel(\n",
    "    data=df.drop('Date', axis=1),\n",
    "    save_all_iterations=True,\n",
    "    random_state=143\n",
    ")\n",
    "kernel.mice(3, verbose=True)\n",
    "d = df['Date']\n",
    "df = kernel.impute_new_data(df.drop('Date', axis=1)).complete_data(0)\n",
    "df['Date'] = d\n",
    "\n",
    "# center & standardize\n",
    "scaler = StandardScaler()\n",
    "X = scaler.fit_transform(df.drop('Date', axis=1).values)\n",
    "df = pd.DataFrame(X, columns=df.drop('Date', axis=1).columns)\n",
    "df['Date'] = d.reset_index(drop=True)"
   ]
  },
  {
   "cell_type": "code",
   "execution_count": 3,
   "metadata": {},
   "outputs": [],
   "source": [
    "df.to_csv('../../../data/clean/aquifer/luco.csv', index=False)"
   ]
  }
 ],
 "metadata": {
  "kernelspec": {
   "display_name": "acea-KYwgFBtm-py3.8",
   "language": "python",
   "name": "acea-kywgfbtm-py3.8"
  },
  "language_info": {
   "codemirror_mode": {
    "name": "ipython",
    "version": 3
   },
   "file_extension": ".py",
   "mimetype": "text/x-python",
   "name": "python",
   "nbconvert_exporter": "python",
   "pygments_lexer": "ipython3",
   "version": "3.8.5"
  }
 },
 "nbformat": 4,
 "nbformat_minor": 4
}
