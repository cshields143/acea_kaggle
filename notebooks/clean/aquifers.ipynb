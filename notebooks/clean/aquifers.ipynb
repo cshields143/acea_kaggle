{
 "cells": [
  {
   "cell_type": "code",
   "execution_count": 1,
   "metadata": {},
   "outputs": [],
   "source": [
    "import pandas as pd\n",
    "from datetime import datetime\n",
    "import miceforest as mf\n",
    "from sklearn.preprocessing import StandardScaler"
   ]
  },
  {
   "cell_type": "code",
   "execution_count": 2,
   "metadata": {},
   "outputs": [
    {
     "name": "stdout",
     "output_type": "stream",
     "text": [
      "Dataset 0\n",
      "1  | Rainfall_Monte_Serra | Rainfall_Piaggione | Depth_to_Groundwater_LT2 | Depth_to_Groundwater_SAL | Depth_to_Groundwater_CoS | Hydrometry_Monte_S_Quirico\n",
      "2  | Rainfall_Monte_Serra | Rainfall_Piaggione | Depth_to_Groundwater_LT2 | Depth_to_Groundwater_SAL | Depth_to_Groundwater_CoS | Hydrometry_Monte_S_Quirico\n",
      "3  | Rainfall_Monte_Serra | Rainfall_Piaggione | Depth_to_Groundwater_LT2 | Depth_to_Groundwater_SAL | Depth_to_Groundwater_CoS | Hydrometry_Monte_S_Quirico\n",
      "Dataset 1\n",
      "1  | Rainfall_Monte_Serra | Rainfall_Piaggione | Depth_to_Groundwater_LT2 | Depth_to_Groundwater_SAL | Depth_to_Groundwater_CoS | Hydrometry_Monte_S_Quirico\n",
      "2  | Rainfall_Monte_Serra | Rainfall_Piaggione | Depth_to_Groundwater_LT2 | Depth_to_Groundwater_SAL | Depth_to_Groundwater_CoS | Hydrometry_Monte_S_Quirico\n",
      "3  | Rainfall_Monte_Serra | Rainfall_Piaggione | Depth_to_Groundwater_LT2 | Depth_to_Groundwater_SAL | Depth_to_Groundwater_CoS | Hydrometry_Monte_S_Quirico\n",
      "Dataset 2\n",
      "1  | Rainfall_Monte_Serra | Rainfall_Piaggione | Depth_to_Groundwater_LT2 | Depth_to_Groundwater_SAL | Depth_to_Groundwater_CoS | Hydrometry_Monte_S_Quirico\n",
      "2  | Rainfall_Monte_Serra | Rainfall_Piaggione | Depth_to_Groundwater_LT2 | Depth_to_Groundwater_SAL | Depth_to_Groundwater_CoS | Hydrometry_Monte_S_Quirico\n",
      "3  | Rainfall_Monte_Serra | Rainfall_Piaggione | Depth_to_Groundwater_LT2 | Depth_to_Groundwater_SAL | Depth_to_Groundwater_CoS | Hydrometry_Monte_S_Quirico\n",
      "Dataset 3\n",
      "1  | Rainfall_Monte_Serra | Rainfall_Piaggione | Depth_to_Groundwater_LT2 | Depth_to_Groundwater_SAL | Depth_to_Groundwater_CoS | Hydrometry_Monte_S_Quirico\n",
      "2  | Rainfall_Monte_Serra | Rainfall_Piaggione | Depth_to_Groundwater_LT2 | Depth_to_Groundwater_SAL | Depth_to_Groundwater_CoS | Hydrometry_Monte_S_Quirico\n",
      "3  | Rainfall_Monte_Serra | Rainfall_Piaggione | Depth_to_Groundwater_LT2 | Depth_to_Groundwater_SAL | Depth_to_Groundwater_CoS | Hydrometry_Monte_S_Quirico\n",
      "Dataset 4\n",
      "1  | Rainfall_Monte_Serra | Rainfall_Piaggione | Depth_to_Groundwater_LT2 | Depth_to_Groundwater_SAL | Depth_to_Groundwater_CoS | Hydrometry_Monte_S_Quirico\n",
      "2  | Rainfall_Monte_Serra | Rainfall_Piaggione | Depth_to_Groundwater_LT2 | Depth_to_Groundwater_SAL | Depth_to_Groundwater_CoS | Hydrometry_Monte_S_Quirico\n",
      "3  | Rainfall_Monte_Serra | Rainfall_Piaggione | Depth_to_Groundwater_LT2 | Depth_to_Groundwater_SAL | Depth_to_Groundwater_CoS | Hydrometry_Monte_S_Quirico\n"
     ]
    }
   ],
   "source": [
    "df = pd.read_csv('../../data/raw/aquifer/auser.csv')\n",
    "\n",
    "# dates are in format DD/MM/YYYY\n",
    "# convert to this explicitly\n",
    "df['Date'] = pd.to_datetime(df['Date'], format='%d/%m/%Y')\n",
    "\n",
    "# most data is missing until 2006, and one feature\n",
    "# doesn't start until 2007\n",
    "df = df[df['Date'] > datetime(2007, 4, 5)]\n",
    "\n",
    "# some features are missing many values, just drop them\n",
    "df = df.drop([\n",
    "    'Depth_to_Groundwater_DIEC',\n",
    "    'Depth_to_Groundwater_PAG',\n",
    "    'Temperature_Ponte_a_Moriano',\n",
    "    'Volume_CSA',\n",
    "    'Volume_CSAL',\n",
    "    'Hydrometry_Piaggione'\n",
    "], axis=1)\n",
    "\n",
    "# some features are using 0 when they actually mean NaN\n",
    "for c in ['Depth_to_Groundwater_LT2', 'Depth_to_Groundwater_SAL', 'Depth_to_Groundwater_CoS']:\n",
    "    df[c] = df[c].replace(0, float('nan'))\n",
    "\n",
    "# ACEA specified that only the absolute values should be used\n",
    "for c in df.columns:\n",
    "    if c == 'Date':\n",
    "        continue\n",
    "    df[c] = df[c].abs()\n",
    "\n",
    "# use multiple imputation to do single imputation;\n",
    "# be picky about the date, an invalid datatype\n",
    "kernel = mf.MultipleImputedKernel(\n",
    "    data=df.drop('Date', axis=1),\n",
    "    save_all_iterations=True,\n",
    "    random_state=143\n",
    ")\n",
    "kernel.mice(3, verbose=True)\n",
    "d = df['Date']\n",
    "df = kernel.impute_new_data(df.drop('Date', axis=1)).complete_data(0)\n",
    "df['Date'] = d"
   ]
  },
  {
   "cell_type": "code",
   "execution_count": 3,
   "metadata": {},
   "outputs": [],
   "source": [
    "# center & standardize\n",
    "\n",
    "# we have to picky about the date, which is an invalid data type\n",
    "sansdate = df.drop('Date', axis=1)\n",
    "\n",
    "scaler = StandardScaler()\n",
    "X = scaler.fit_transform(sansdate.values)\n",
    "df2 = pd.DataFrame(X, columns=sansdate.columns)\n",
    "\n",
    "# add the dates back in\n",
    "df2['Date'] = df['Date'].reset_index(drop=True)"
   ]
  },
  {
   "cell_type": "code",
   "execution_count": 4,
   "metadata": {},
   "outputs": [],
   "source": [
    "df2.to_csv('../../data/clean/aquifer/auser.csv', index=False)"
   ]
  }
 ],
 "metadata": {
  "kernelspec": {
   "display_name": "acea-KYwgFBtm-py3.8",
   "language": "python",
   "name": "acea-kywgfbtm-py3.8"
  },
  "language_info": {
   "codemirror_mode": {
    "name": "ipython",
    "version": 3
   },
   "file_extension": ".py",
   "mimetype": "text/x-python",
   "name": "python",
   "nbconvert_exporter": "python",
   "pygments_lexer": "ipython3",
   "version": "3.8.5"
  }
 },
 "nbformat": 4,
 "nbformat_minor": 4
}
