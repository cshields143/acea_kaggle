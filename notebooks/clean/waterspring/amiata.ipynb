{
 "cells": [
  {
   "cell_type": "code",
   "execution_count": 1,
   "metadata": {},
   "outputs": [],
   "source": [
    "import pandas as pd\n",
    "from datetime import datetime\n",
    "from sklearn.preprocessing import StandardScaler\n",
    "import miceforest as mf"
   ]
  },
  {
   "cell_type": "code",
   "execution_count": 2,
   "metadata": {},
   "outputs": [
    {
     "name": "stdout",
     "output_type": "stream",
     "text": [
      "Dataset 0\n",
      "1  | Rainfall_Abbadia_S_Salvatore | Rainfall_S_Fiora | Rainfall_Laghetto_Verde | Rainfall_Vetta_Amiata | Depth_to_Groundwater_S_Fiora_8 | Depth_to_Groundwater_S_Fiora_11bis | Depth_to_Groundwater_David_Lazzaretti | Temperature_Abbadia_S_Salvatore | Temperature_Laghetto_Verde | Flow_Rate_Bugnano | Flow_Rate_Arbure | Flow_Rate_Ermicciolo\n",
      "2  | Rainfall_Abbadia_S_Salvatore | Rainfall_S_Fiora | Rainfall_Laghetto_Verde | Rainfall_Vetta_Amiata | Depth_to_Groundwater_S_Fiora_8 | Depth_to_Groundwater_S_Fiora_11bis | Depth_to_Groundwater_David_Lazzaretti | Temperature_Abbadia_S_Salvatore | Temperature_Laghetto_Verde | Flow_Rate_Bugnano | Flow_Rate_Arbure | Flow_Rate_Ermicciolo\n",
      "3  | Rainfall_Abbadia_S_Salvatore | Rainfall_S_Fiora | Rainfall_Laghetto_Verde | Rainfall_Vetta_Amiata | Depth_to_Groundwater_S_Fiora_8 | Depth_to_Groundwater_S_Fiora_11bis | Depth_to_Groundwater_David_Lazzaretti | Temperature_Abbadia_S_Salvatore | Temperature_Laghetto_Verde | Flow_Rate_Bugnano | Flow_Rate_Arbure | Flow_Rate_Ermicciolo\n",
      "Dataset 1\n",
      "1  | Rainfall_Abbadia_S_Salvatore | Rainfall_S_Fiora | Rainfall_Laghetto_Verde | Rainfall_Vetta_Amiata | Depth_to_Groundwater_S_Fiora_8 | Depth_to_Groundwater_S_Fiora_11bis | Depth_to_Groundwater_David_Lazzaretti | Temperature_Abbadia_S_Salvatore | Temperature_Laghetto_Verde | Flow_Rate_Bugnano | Flow_Rate_Arbure | Flow_Rate_Ermicciolo\n",
      "2  | Rainfall_Abbadia_S_Salvatore | Rainfall_S_Fiora | Rainfall_Laghetto_Verde | Rainfall_Vetta_Amiata | Depth_to_Groundwater_S_Fiora_8 | Depth_to_Groundwater_S_Fiora_11bis | Depth_to_Groundwater_David_Lazzaretti | Temperature_Abbadia_S_Salvatore | Temperature_Laghetto_Verde | Flow_Rate_Bugnano | Flow_Rate_Arbure | Flow_Rate_Ermicciolo\n",
      "3  | Rainfall_Abbadia_S_Salvatore | Rainfall_S_Fiora | Rainfall_Laghetto_Verde | Rainfall_Vetta_Amiata | Depth_to_Groundwater_S_Fiora_8 | Depth_to_Groundwater_S_Fiora_11bis | Depth_to_Groundwater_David_Lazzaretti | Temperature_Abbadia_S_Salvatore | Temperature_Laghetto_Verde | Flow_Rate_Bugnano | Flow_Rate_Arbure | Flow_Rate_Ermicciolo\n",
      "Dataset 2\n",
      "1  | Rainfall_Abbadia_S_Salvatore | Rainfall_S_Fiora | Rainfall_Laghetto_Verde | Rainfall_Vetta_Amiata | Depth_to_Groundwater_S_Fiora_8 | Depth_to_Groundwater_S_Fiora_11bis | Depth_to_Groundwater_David_Lazzaretti | Temperature_Abbadia_S_Salvatore | Temperature_Laghetto_Verde | Flow_Rate_Bugnano | Flow_Rate_Arbure | Flow_Rate_Ermicciolo\n",
      "2  | Rainfall_Abbadia_S_Salvatore | Rainfall_S_Fiora | Rainfall_Laghetto_Verde | Rainfall_Vetta_Amiata | Depth_to_Groundwater_S_Fiora_8 | Depth_to_Groundwater_S_Fiora_11bis | Depth_to_Groundwater_David_Lazzaretti | Temperature_Abbadia_S_Salvatore | Temperature_Laghetto_Verde | Flow_Rate_Bugnano | Flow_Rate_Arbure | Flow_Rate_Ermicciolo\n",
      "3  | Rainfall_Abbadia_S_Salvatore | Rainfall_S_Fiora | Rainfall_Laghetto_Verde | Rainfall_Vetta_Amiata | Depth_to_Groundwater_S_Fiora_8 | Depth_to_Groundwater_S_Fiora_11bis | Depth_to_Groundwater_David_Lazzaretti | Temperature_Abbadia_S_Salvatore | Temperature_Laghetto_Verde | Flow_Rate_Bugnano | Flow_Rate_Arbure | Flow_Rate_Ermicciolo\n",
      "Dataset 3\n",
      "1  | Rainfall_Abbadia_S_Salvatore | Rainfall_S_Fiora | Rainfall_Laghetto_Verde | Rainfall_Vetta_Amiata | Depth_to_Groundwater_S_Fiora_8 | Depth_to_Groundwater_S_Fiora_11bis | Depth_to_Groundwater_David_Lazzaretti | Temperature_Abbadia_S_Salvatore | Temperature_Laghetto_Verde | Flow_Rate_Bugnano | Flow_Rate_Arbure | Flow_Rate_Ermicciolo\n",
      "2  | Rainfall_Abbadia_S_Salvatore | Rainfall_S_Fiora | Rainfall_Laghetto_Verde | Rainfall_Vetta_Amiata | Depth_to_Groundwater_S_Fiora_8 | Depth_to_Groundwater_S_Fiora_11bis | Depth_to_Groundwater_David_Lazzaretti | Temperature_Abbadia_S_Salvatore | Temperature_Laghetto_Verde | Flow_Rate_Bugnano | Flow_Rate_Arbure | Flow_Rate_Ermicciolo\n",
      "3  | Rainfall_Abbadia_S_Salvatore | Rainfall_S_Fiora | Rainfall_Laghetto_Verde | Rainfall_Vetta_Amiata | Depth_to_Groundwater_S_Fiora_8 | Depth_to_Groundwater_S_Fiora_11bis | Depth_to_Groundwater_David_Lazzaretti | Temperature_Abbadia_S_Salvatore | Temperature_Laghetto_Verde | Flow_Rate_Bugnano | Flow_Rate_Arbure | Flow_Rate_Ermicciolo\n",
      "Dataset 4\n",
      "1  | Rainfall_Abbadia_S_Salvatore | Rainfall_S_Fiora | Rainfall_Laghetto_Verde | Rainfall_Vetta_Amiata | Depth_to_Groundwater_S_Fiora_8 | Depth_to_Groundwater_S_Fiora_11bis | Depth_to_Groundwater_David_Lazzaretti | Temperature_Abbadia_S_Salvatore | Temperature_Laghetto_Verde | Flow_Rate_Bugnano | Flow_Rate_Arbure | Flow_Rate_Ermicciolo\n",
      "2  | Rainfall_Abbadia_S_Salvatore | Rainfall_S_Fiora | Rainfall_Laghetto_Verde | Rainfall_Vetta_Amiata | Depth_to_Groundwater_S_Fiora_8 | Depth_to_Groundwater_S_Fiora_11bis | Depth_to_Groundwater_David_Lazzaretti | Temperature_Abbadia_S_Salvatore | Temperature_Laghetto_Verde | Flow_Rate_Bugnano | Flow_Rate_Arbure | Flow_Rate_Ermicciolo\n",
      "3  | Rainfall_Abbadia_S_Salvatore | Rainfall_S_Fiora | Rainfall_Laghetto_Verde | Rainfall_Vetta_Amiata | Depth_to_Groundwater_S_Fiora_8 | Depth_to_Groundwater_S_Fiora_11bis | Depth_to_Groundwater_David_Lazzaretti | Temperature_Abbadia_S_Salvatore | Temperature_Laghetto_Verde | Flow_Rate_Bugnano | Flow_Rate_Arbure | Flow_Rate_Ermicciolo\n"
     ]
    }
   ],
   "source": [
    "df = pd.read_csv('../../../data/raw/waterspring/amiata.csv')\n",
    "\n",
    "# dates are in format DD/MM/YYYY\n",
    "# convert to this explicitly\n",
    "df['Date'] = pd.to_datetime(df['Date'], format='%d/%m/%Y')\n",
    "\n",
    "# target doesn't begin until 2015\n",
    "df = df[df['Date'] > datetime(2014, 12, 31)]\n",
    "\n",
    "# replace 0s that mean NaN with NaN\n",
    "cols = [\n",
    "    'Flow_Rate_Bugnano',\n",
    "    'Flow_Rate_Arbure',\n",
    "    'Flow_Rate_Ermicciolo'\n",
    "]\n",
    "for c in cols:\n",
    "    df.loc[df[c] == 0, c] = float('nan')\n",
    "\n",
    "# use absolute values where needed\n",
    "needabs = [\n",
    "    'Depth_to_Groundwater_S_Fiora_8',\n",
    "    'Depth_to_Groundwater_S_Fiora_11bis',\n",
    "    'Depth_to_Groundwater_David_Lazzaretti',\n",
    "    'Flow_Rate_Bugnano',\n",
    "    'Flow_Rate_Arbure',\n",
    "    'Flow_Rate_Ermicciolo',\n",
    "    'Flow_Rate_Galleria_Alta'\n",
    "]\n",
    "for c in needabs:\n",
    "    df[c] = df[c].abs()\n",
    "\n",
    "# use multiple imputation to do single imputation;\n",
    "# be picky about the date, an invalid datatype\n",
    "kernel = mf.MultipleImputedKernel(\n",
    "    data=df.drop('Date', axis=1),\n",
    "    save_all_iterations=True,\n",
    "    random_state=143\n",
    ")\n",
    "kernel.mice(3, verbose=True)\n",
    "d = df['Date']\n",
    "df = kernel.impute_new_data(df.drop('Date', axis=1)).complete_data(0)\n",
    "df['Date'] = d\n",
    "\n",
    "# center & standardize\n",
    "scaler = StandardScaler()\n",
    "X = scaler.fit_transform(df.drop('Date', axis=1).values)\n",
    "df = pd.DataFrame(X, columns=df.drop('Date', axis=1).columns)\n",
    "df['Date'] = d.reset_index(drop=True)"
   ]
  },
  {
   "cell_type": "code",
   "execution_count": 3,
   "metadata": {},
   "outputs": [],
   "source": [
    "df.to_csv('../../../data/clean/waterspring/amiata.csv', index=False)"
   ]
  }
 ],
 "metadata": {
  "kernelspec": {
   "display_name": "acea-KYwgFBtm-py3.8",
   "language": "python",
   "name": "acea-kywgfbtm-py3.8"
  },
  "language_info": {
   "codemirror_mode": {
    "name": "ipython",
    "version": 3
   },
   "file_extension": ".py",
   "mimetype": "text/x-python",
   "name": "python",
   "nbconvert_exporter": "python",
   "pygments_lexer": "ipython3",
   "version": "3.8.5"
  }
 },
 "nbformat": 4,
 "nbformat_minor": 4
}
