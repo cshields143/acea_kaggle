{
 "cells": [
  {
   "cell_type": "code",
   "execution_count": 1,
   "id": "downtown-symposium",
   "metadata": {},
   "outputs": [],
   "source": [
    "import json\n",
    "with open('research/auser.umap', 'r') as fp:\n",
    "    auser = json.load(fp)"
   ]
  },
  {
   "cell_type": "code",
   "execution_count": 43,
   "id": "alpha-arkansas",
   "metadata": {},
   "outputs": [],
   "source": [
    "class uMapGen:\n",
    "    def __init__(self, name):\n",
    "        self.name = name\n",
    "        self.obj = dict(\n",
    "            type='umap',\n",
    "            uri='https://umap.openstreetmap.fr/en/map/new/#1/44.630/14.315',\n",
    "            properties=dict(\n",
    "                easing=True,\n",
    "                embedControl=True,\n",
    "                fullscreenControl=True,\n",
    "                searchControl=True,\n",
    "                zoomControl=True,\n",
    "                slideshow=dict(),\n",
    "                captionBar=False,\n",
    "                limitBounds=dict(),\n",
    "                tilelayer=dict(\n",
    "                    minZoom=0,\n",
    "                    maxZoom=18,\n",
    "                    attribution=\"Tiles courtesy of [[https://www.jawg.io/|jawgmaps]] - Map data [[http://osm.org/copyright/|&copy; OpenStreetMap contributors]], under ODbL.\",\n",
    "                    url_template='https://tile.jawg.io/{z}/{x}/{y}.png?api-key=community',\n",
    "                    name='OSM Street (jawgmaps)',\n",
    "                    tms=False\n",
    "                ),\n",
    "                license='',\n",
    "                description='',\n",
    "                name='Untitled Map',\n",
    "                displayPopupFooter=False,\n",
    "                miniMap=False,\n",
    "                moreControl=True,\n",
    "                scaleControl=True,\n",
    "                scrollWheelZoom=True,\n",
    "                zoom=6\n",
    "            ),\n",
    "            geometry=dict(\n",
    "                type='Point',\n",
    "                coordinates=[2, 51]\n",
    "            ),\n",
    "            layers=[dict(\n",
    "                type='FeatureCollection',\n",
    "                features=[],\n",
    "                _umap_options=dict(\n",
    "                    displayOnLoad=True,\n",
    "                    browsable=True,\n",
    "                    name='Layer 1'\n",
    "                )\n",
    "            )]\n",
    "        )\n",
    "    def add_coord(self, name, lat, lon):\n",
    "        thingy = dict(\n",
    "            type='Feature',\n",
    "            properties=dict(\n",
    "                _umap_options=dict(showLabel=True),\n",
    "                name=name\n",
    "            ),\n",
    "            geometry=dict(\n",
    "                type='Point',\n",
    "                coordinates=[lon, lat]\n",
    "            )\n",
    "        )\n",
    "        self.obj['layers'][0]['features'].append(thingy)\n",
    "    def to_json(self):\n",
    "        with open(f\"research/{self.name}.umap\", 'w') as fp:\n",
    "            json.dump(self.obj, fp)"
   ]
  },
  {
   "cell_type": "code",
   "execution_count": 46,
   "id": "hindu-lounge",
   "metadata": {},
   "outputs": [],
   "source": [
    "def auto_gen(wb):\n",
    "    umap = uMapGen(wb)\n",
    "    c1 = overview['Waterbody'] == wb\n",
    "    c2 = overview['StationID'].isnull()\n",
    "    ov = overview[c1 & ~c2]\n",
    "    locs = ov[['Location', 'Latitude', 'Longitude']].sort_values('Location').drop_duplicates()\n",
    "    for row in locs.itertuples(index=False):\n",
    "        umap.add_coord(row.Location, row.Latitude, row.Longitude)\n",
    "    umap.to_json()"
   ]
  },
  {
   "cell_type": "code",
   "execution_count": 38,
   "id": "essential-devil",
   "metadata": {},
   "outputs": [],
   "source": [
    "overview = pd.read_csv('data/meta/overview.csv')"
   ]
  },
  {
   "cell_type": "code",
   "execution_count": 47,
   "id": "hollywood-token",
   "metadata": {},
   "outputs": [],
   "source": [
    "for wb in ['amiata', 'arno', 'auser', 'luco']:\n",
    "    auto_gen(wb)"
   ]
  }
 ],
 "metadata": {
  "kernelspec": {
   "display_name": "Python 3",
   "language": "python",
   "name": "python3"
  },
  "language_info": {
   "codemirror_mode": {
    "name": "ipython",
    "version": 3
   },
   "file_extension": ".py",
   "mimetype": "text/x-python",
   "name": "python",
   "nbconvert_exporter": "python",
   "pygments_lexer": "ipython3",
   "version": "3.8.5"
  }
 },
 "nbformat": 4,
 "nbformat_minor": 5
}
