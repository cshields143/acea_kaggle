{
 "cells": [
  {
   "cell_type": "code",
   "execution_count": 2,
   "metadata": {},
   "outputs": [],
   "source": [
    "import pandas as pd"
   ]
  },
  {
   "cell_type": "code",
   "execution_count": 3,
   "metadata": {},
   "outputs": [
    {
     "name": "stdout",
     "output_type": "stream",
     "text": [
      "(8154, 27)\n"
     ]
    },
    {
     "data": {
      "text/html": [
       "<div>\n",
       "<style scoped>\n",
       "    .dataframe tbody tr th:only-of-type {\n",
       "        vertical-align: middle;\n",
       "    }\n",
       "\n",
       "    .dataframe tbody tr th {\n",
       "        vertical-align: top;\n",
       "    }\n",
       "\n",
       "    .dataframe thead th {\n",
       "        text-align: right;\n",
       "    }\n",
       "</style>\n",
       "<table border=\"1\" class=\"dataframe\">\n",
       "  <thead>\n",
       "    <tr style=\"text-align: right;\">\n",
       "      <th></th>\n",
       "      <th>Date</th>\n",
       "      <th>Rainfall_Gallicano</th>\n",
       "      <th>Rainfall_Pontetetto</th>\n",
       "      <th>Rainfall_Monte_Serra</th>\n",
       "      <th>Rainfall_Orentano</th>\n",
       "      <th>Rainfall_Borgo_a_Mozzano</th>\n",
       "      <th>Rainfall_Piaggione</th>\n",
       "      <th>Rainfall_Calavorno</th>\n",
       "      <th>Rainfall_Croce_Arcana</th>\n",
       "      <th>Rainfall_Tereglio_Coreglia_Antelminelli</th>\n",
       "      <th>...</th>\n",
       "      <th>Temperature_Monte_Serra</th>\n",
       "      <th>Temperature_Ponte_a_Moriano</th>\n",
       "      <th>Temperature_Lucca_Orto_Botanico</th>\n",
       "      <th>Volume_POL</th>\n",
       "      <th>Volume_CC1</th>\n",
       "      <th>Volume_CC2</th>\n",
       "      <th>Volume_CSA</th>\n",
       "      <th>Volume_CSAL</th>\n",
       "      <th>Hydrometry_Monte_S_Quirico</th>\n",
       "      <th>Hydrometry_Piaggione</th>\n",
       "    </tr>\n",
       "  </thead>\n",
       "  <tbody>\n",
       "    <tr>\n",
       "      <th>0</th>\n",
       "      <td>05/03/1998</td>\n",
       "      <td>NaN</td>\n",
       "      <td>NaN</td>\n",
       "      <td>NaN</td>\n",
       "      <td>NaN</td>\n",
       "      <td>NaN</td>\n",
       "      <td>NaN</td>\n",
       "      <td>NaN</td>\n",
       "      <td>NaN</td>\n",
       "      <td>NaN</td>\n",
       "      <td>...</td>\n",
       "      <td>0.0</td>\n",
       "      <td>0.0</td>\n",
       "      <td>0.00</td>\n",
       "      <td>NaN</td>\n",
       "      <td>NaN</td>\n",
       "      <td>NaN</td>\n",
       "      <td>NaN</td>\n",
       "      <td>NaN</td>\n",
       "      <td>NaN</td>\n",
       "      <td>NaN</td>\n",
       "    </tr>\n",
       "    <tr>\n",
       "      <th>1</th>\n",
       "      <td>06/03/1998</td>\n",
       "      <td>NaN</td>\n",
       "      <td>NaN</td>\n",
       "      <td>NaN</td>\n",
       "      <td>NaN</td>\n",
       "      <td>NaN</td>\n",
       "      <td>NaN</td>\n",
       "      <td>NaN</td>\n",
       "      <td>NaN</td>\n",
       "      <td>NaN</td>\n",
       "      <td>...</td>\n",
       "      <td>0.0</td>\n",
       "      <td>0.0</td>\n",
       "      <td>10.05</td>\n",
       "      <td>NaN</td>\n",
       "      <td>NaN</td>\n",
       "      <td>NaN</td>\n",
       "      <td>NaN</td>\n",
       "      <td>NaN</td>\n",
       "      <td>NaN</td>\n",
       "      <td>NaN</td>\n",
       "    </tr>\n",
       "    <tr>\n",
       "      <th>2</th>\n",
       "      <td>07/03/1998</td>\n",
       "      <td>NaN</td>\n",
       "      <td>NaN</td>\n",
       "      <td>NaN</td>\n",
       "      <td>NaN</td>\n",
       "      <td>NaN</td>\n",
       "      <td>NaN</td>\n",
       "      <td>NaN</td>\n",
       "      <td>NaN</td>\n",
       "      <td>NaN</td>\n",
       "      <td>...</td>\n",
       "      <td>9.2</td>\n",
       "      <td>0.0</td>\n",
       "      <td>10.00</td>\n",
       "      <td>NaN</td>\n",
       "      <td>NaN</td>\n",
       "      <td>NaN</td>\n",
       "      <td>NaN</td>\n",
       "      <td>NaN</td>\n",
       "      <td>NaN</td>\n",
       "      <td>NaN</td>\n",
       "    </tr>\n",
       "    <tr>\n",
       "      <th>3</th>\n",
       "      <td>08/03/1998</td>\n",
       "      <td>NaN</td>\n",
       "      <td>NaN</td>\n",
       "      <td>NaN</td>\n",
       "      <td>NaN</td>\n",
       "      <td>NaN</td>\n",
       "      <td>NaN</td>\n",
       "      <td>NaN</td>\n",
       "      <td>NaN</td>\n",
       "      <td>NaN</td>\n",
       "      <td>...</td>\n",
       "      <td>11.4</td>\n",
       "      <td>0.0</td>\n",
       "      <td>13.85</td>\n",
       "      <td>NaN</td>\n",
       "      <td>NaN</td>\n",
       "      <td>NaN</td>\n",
       "      <td>NaN</td>\n",
       "      <td>NaN</td>\n",
       "      <td>NaN</td>\n",
       "      <td>NaN</td>\n",
       "    </tr>\n",
       "    <tr>\n",
       "      <th>4</th>\n",
       "      <td>09/03/1998</td>\n",
       "      <td>NaN</td>\n",
       "      <td>NaN</td>\n",
       "      <td>NaN</td>\n",
       "      <td>NaN</td>\n",
       "      <td>NaN</td>\n",
       "      <td>NaN</td>\n",
       "      <td>NaN</td>\n",
       "      <td>NaN</td>\n",
       "      <td>NaN</td>\n",
       "      <td>...</td>\n",
       "      <td>11.4</td>\n",
       "      <td>0.0</td>\n",
       "      <td>12.85</td>\n",
       "      <td>NaN</td>\n",
       "      <td>NaN</td>\n",
       "      <td>NaN</td>\n",
       "      <td>NaN</td>\n",
       "      <td>NaN</td>\n",
       "      <td>NaN</td>\n",
       "      <td>NaN</td>\n",
       "    </tr>\n",
       "  </tbody>\n",
       "</table>\n",
       "<p>5 rows × 27 columns</p>\n",
       "</div>"
      ],
      "text/plain": [
       "         Date  Rainfall_Gallicano  Rainfall_Pontetetto  Rainfall_Monte_Serra  \\\n",
       "0  05/03/1998                 NaN                  NaN                   NaN   \n",
       "1  06/03/1998                 NaN                  NaN                   NaN   \n",
       "2  07/03/1998                 NaN                  NaN                   NaN   \n",
       "3  08/03/1998                 NaN                  NaN                   NaN   \n",
       "4  09/03/1998                 NaN                  NaN                   NaN   \n",
       "\n",
       "   Rainfall_Orentano  Rainfall_Borgo_a_Mozzano  Rainfall_Piaggione  \\\n",
       "0                NaN                       NaN                 NaN   \n",
       "1                NaN                       NaN                 NaN   \n",
       "2                NaN                       NaN                 NaN   \n",
       "3                NaN                       NaN                 NaN   \n",
       "4                NaN                       NaN                 NaN   \n",
       "\n",
       "   Rainfall_Calavorno  Rainfall_Croce_Arcana  \\\n",
       "0                 NaN                    NaN   \n",
       "1                 NaN                    NaN   \n",
       "2                 NaN                    NaN   \n",
       "3                 NaN                    NaN   \n",
       "4                 NaN                    NaN   \n",
       "\n",
       "   Rainfall_Tereglio_Coreglia_Antelminelli  ...  Temperature_Monte_Serra  \\\n",
       "0                                      NaN  ...                      0.0   \n",
       "1                                      NaN  ...                      0.0   \n",
       "2                                      NaN  ...                      9.2   \n",
       "3                                      NaN  ...                     11.4   \n",
       "4                                      NaN  ...                     11.4   \n",
       "\n",
       "   Temperature_Ponte_a_Moriano  Temperature_Lucca_Orto_Botanico  Volume_POL  \\\n",
       "0                          0.0                             0.00         NaN   \n",
       "1                          0.0                            10.05         NaN   \n",
       "2                          0.0                            10.00         NaN   \n",
       "3                          0.0                            13.85         NaN   \n",
       "4                          0.0                            12.85         NaN   \n",
       "\n",
       "   Volume_CC1  Volume_CC2  Volume_CSA  Volume_CSAL  \\\n",
       "0         NaN         NaN         NaN          NaN   \n",
       "1         NaN         NaN         NaN          NaN   \n",
       "2         NaN         NaN         NaN          NaN   \n",
       "3         NaN         NaN         NaN          NaN   \n",
       "4         NaN         NaN         NaN          NaN   \n",
       "\n",
       "   Hydrometry_Monte_S_Quirico  Hydrometry_Piaggione  \n",
       "0                         NaN                   NaN  \n",
       "1                         NaN                   NaN  \n",
       "2                         NaN                   NaN  \n",
       "3                         NaN                   NaN  \n",
       "4                         NaN                   NaN  \n",
       "\n",
       "[5 rows x 27 columns]"
      ]
     },
     "execution_count": 3,
     "metadata": {},
     "output_type": "execute_result"
    }
   ],
   "source": [
    "auser = pd.read_csv('../../data/raw/aquifer/auser.csv')\n",
    "print(auser.shape)\n",
    "auser.head()"
   ]
  },
  {
   "cell_type": "code",
   "execution_count": 4,
   "metadata": {},
   "outputs": [
    {
     "data": {
      "text/plain": [
       "Index(['Date', 'Rainfall_Gallicano', 'Rainfall_Pontetetto',\n",
       "       'Rainfall_Monte_Serra', 'Rainfall_Orentano', 'Rainfall_Borgo_a_Mozzano',\n",
       "       'Rainfall_Piaggione', 'Rainfall_Calavorno', 'Rainfall_Croce_Arcana',\n",
       "       'Rainfall_Tereglio_Coreglia_Antelminelli',\n",
       "       'Rainfall_Fabbriche_di_Vallico', 'Depth_to_Groundwater_LT2',\n",
       "       'Depth_to_Groundwater_SAL', 'Depth_to_Groundwater_PAG',\n",
       "       'Depth_to_Groundwater_CoS', 'Depth_to_Groundwater_DIEC',\n",
       "       'Temperature_Orentano', 'Temperature_Monte_Serra',\n",
       "       'Temperature_Ponte_a_Moriano', 'Temperature_Lucca_Orto_Botanico',\n",
       "       'Volume_POL', 'Volume_CC1', 'Volume_CC2', 'Volume_CSA', 'Volume_CSAL',\n",
       "       'Hydrometry_Monte_S_Quirico', 'Hydrometry_Piaggione'],\n",
       "      dtype='object')"
      ]
     },
     "execution_count": 4,
     "metadata": {},
     "output_type": "execute_result"
    }
   ],
   "source": [
    "auser.columns"
   ]
  },
  {
   "cell_type": "code",
   "execution_count": 5,
   "metadata": {},
   "outputs": [],
   "source": [
    "cols_rain = [\n",
    "    'Rainfall_Gallicano',\n",
    "    'Rainfall_Pontetetto',\n",
    "    'Rainfall_Monte_Serra',\n",
    "    'Rainfall_Orentano',\n",
    "    'Rainfall_Borgo_a_Mozzano',\n",
    "    'Rainfall_Piaggione',\n",
    "    'Rainfall_Calavorno',\n",
    "    'Rainfall_Croce_Arcana',\n",
    "    'Rainfall_Tereglio_Coreglia_Antelminelli',\n",
    "    'Rainfall_Fabbriche_di_Vallico'\n",
    "]\n",
    "\n",
    "cols_depth = [\n",
    "    'Depth_to_Groundwater_LT2',\n",
    "    'Depth_to_Groundwater_SAL',\n",
    "    'Depth_to_Groundwater_PAG',\n",
    "    'Depth_to_Groundwater_CoS',\n",
    "    'Depth_to_Groundwater_DIEC'\n",
    "]\n",
    "\n",
    "cols_temp = [\n",
    "    'Temperature_Orentano',\n",
    "    'Temperature_Monte_Serra',\n",
    "    'Temperature_Ponte_a_Moriano',\n",
    "    'Temperature_Lucca_Orto_Botanico'\n",
    "]\n",
    "\n",
    "cols_vol = [\n",
    "    'Volume_POL',\n",
    "    'Volume_CC1',\n",
    "    'Volume_CC2',\n",
    "    'Volume_CSA',\n",
    "    'Volume_CSAL'\n",
    "]\n",
    "\n",
    "cols_hydro = [\n",
    "    'Hydrometry_Monte_S_Quirico',\n",
    "    'Hydrometry_Piaggione'\n",
    "]\n",
    "\n",
    "all_cols = [cols_rain, cols_depth, cols_temp, cols_vol, cols_hydro]\n",
    "for x in all_cols:\n",
    "    for c in x:\n",
    "        auser[c]"
   ]
  },
  {
   "cell_type": "code",
   "execution_count": 6,
   "metadata": {},
   "outputs": [],
   "source": [
    "auser['Date'] = pd.to_datetime(auser['Date'], format='%d/%m/%Y')"
   ]
  },
  {
   "cell_type": "code",
   "execution_count": 7,
   "metadata": {},
   "outputs": [
    {
     "data": {
      "text/plain": [
       "Date                                          0\n",
       "Rainfall_Gallicano                         2859\n",
       "Rainfall_Pontetetto                        2859\n",
       "Rainfall_Monte_Serra                       2865\n",
       "Rainfall_Orentano                          2859\n",
       "Rainfall_Borgo_a_Mozzano                   2859\n",
       "Rainfall_Piaggione                         3224\n",
       "Rainfall_Calavorno                         2859\n",
       "Rainfall_Croce_Arcana                      2859\n",
       "Rainfall_Tereglio_Coreglia_Antelminelli    2859\n",
       "Rainfall_Fabbriche_di_Vallico              2859\n",
       "Depth_to_Groundwater_LT2                   3352\n",
       "Depth_to_Groundwater_SAL                   3609\n",
       "Depth_to_Groundwater_PAG                   4347\n",
       "Depth_to_Groundwater_CoS                   3839\n",
       "Depth_to_Groundwater_DIEC                  4884\n",
       "Temperature_Orentano                          0\n",
       "Temperature_Monte_Serra                       0\n",
       "Temperature_Ponte_a_Moriano                   0\n",
       "Temperature_Lucca_Orto_Botanico               0\n",
       "Volume_POL                                 2494\n",
       "Volume_CC1                                 2494\n",
       "Volume_CC2                                 2494\n",
       "Volume_CSA                                 2494\n",
       "Volume_CSAL                                2494\n",
       "Hydrometry_Monte_S_Quirico                  913\n",
       "Hydrometry_Piaggione                       2035\n",
       "dtype: int64"
      ]
     },
     "execution_count": 7,
     "metadata": {},
     "output_type": "execute_result"
    }
   ],
   "source": [
    "auser.isnull().sum()"
   ]
  },
  {
   "cell_type": "code",
   "execution_count": 8,
   "metadata": {},
   "outputs": [
    {
     "data": {
      "text/plain": [
       "0      1998-03-05\n",
       "1      1998-03-06\n",
       "2      1998-03-07\n",
       "3      1998-03-08\n",
       "4      1998-03-09\n",
       "          ...    \n",
       "5642   2013-08-15\n",
       "5644   2013-08-17\n",
       "5647   2013-08-20\n",
       "7515   2018-10-01\n",
       "7629   2019-01-23\n",
       "Name: Date, Length: 913, dtype: datetime64[ns]"
      ]
     },
     "execution_count": 8,
     "metadata": {},
     "output_type": "execute_result"
    }
   ],
   "source": [
    "auser[auser['Hydrometry_Monte_S_Quirico'].isnull()]['Date']"
   ]
  },
  {
   "cell_type": "code",
   "execution_count": 9,
   "metadata": {},
   "outputs": [
    {
     "name": "stdout",
     "output_type": "stream",
     "text": [
      "Rainfall_Gallicano ... 2006-01-01T00:00:00.000000000\n",
      "Rainfall_Pontetetto ... 2006-01-01T00:00:00.000000000\n",
      "Rainfall_Monte_Serra ... 2006-01-01T00:00:00.000000000\n",
      "Rainfall_Orentano ... 2006-01-01T00:00:00.000000000\n",
      "Rainfall_Borgo_a_Mozzano ... 2006-01-01T00:00:00.000000000\n",
      "Rainfall_Piaggione ... 2006-01-01T00:00:00.000000000\n",
      "Rainfall_Calavorno ... 2006-01-01T00:00:00.000000000\n",
      "Rainfall_Croce_Arcana ... 2006-01-01T00:00:00.000000000\n",
      "Rainfall_Tereglio_Coreglia_Antelminelli ... 2006-01-01T00:00:00.000000000\n",
      "Rainfall_Fabbriche_di_Vallico ... 2006-01-01T00:00:00.000000000\n",
      "Depth_to_Groundwater_LT2 ... 2006-01-01T00:00:00.000000000\n",
      "Depth_to_Groundwater_SAL ... 2007-04-06T00:00:00.000000000\n",
      "Depth_to_Groundwater_PAG ... 2009-01-01T00:00:00.000000000\n",
      "Depth_to_Groundwater_CoS ... 2006-06-29T00:00:00.000000000\n",
      "Depth_to_Groundwater_DIEC ... 2011-01-02T00:00:00.000000000\n",
      "Temperature_Orentano ... 1998-03-05T00:00:00.000000000\n",
      "Temperature_Monte_Serra ... 1998-03-05T00:00:00.000000000\n",
      "Temperature_Ponte_a_Moriano ... 1998-03-05T00:00:00.000000000\n",
      "Temperature_Lucca_Orto_Botanico ... 1998-03-05T00:00:00.000000000\n",
      "Volume_POL ... 2005-01-01T00:00:00.000000000\n",
      "Volume_CC1 ... 2005-01-01T00:00:00.000000000\n",
      "Volume_CC2 ... 2005-01-01T00:00:00.000000000\n",
      "Volume_CSA ... 2005-01-01T00:00:00.000000000\n",
      "Volume_CSAL ... 2005-01-01T00:00:00.000000000\n",
      "Hydrometry_Monte_S_Quirico ... 2000-01-01T00:00:00.000000000\n",
      "Hydrometry_Piaggione ... 2000-01-01T00:00:00.000000000\n"
     ]
    }
   ],
   "source": [
    "for x in all_cols:\n",
    "    for c in x:\n",
    "        print(c, '...', auser[~auser[c].isnull()]['Date'].values[0])"
   ]
  },
  {
   "cell_type": "code",
   "execution_count": 10,
   "metadata": {},
   "outputs": [],
   "source": [
    "from datetime import datetime\n",
    "auser = auser[auser['Date'] > datetime(1999, 12, 31)]"
   ]
  },
  {
   "cell_type": "code",
   "execution_count": 11,
   "metadata": {},
   "outputs": [
    {
     "data": {
      "text/plain": [
       "Date                                          0\n",
       "Rainfall_Gallicano                         2192\n",
       "Rainfall_Pontetetto                        2192\n",
       "Rainfall_Monte_Serra                       2198\n",
       "Rainfall_Orentano                          2192\n",
       "Rainfall_Borgo_a_Mozzano                   2192\n",
       "Rainfall_Piaggione                         2557\n",
       "Rainfall_Calavorno                         2192\n",
       "Rainfall_Croce_Arcana                      2192\n",
       "Rainfall_Tereglio_Coreglia_Antelminelli    2192\n",
       "Rainfall_Fabbriche_di_Vallico              2192\n",
       "Depth_to_Groundwater_LT2                   2685\n",
       "Depth_to_Groundwater_SAL                   2942\n",
       "Depth_to_Groundwater_PAG                   3680\n",
       "Depth_to_Groundwater_CoS                   3172\n",
       "Depth_to_Groundwater_DIEC                  4217\n",
       "Temperature_Orentano                          0\n",
       "Temperature_Monte_Serra                       0\n",
       "Temperature_Ponte_a_Moriano                   0\n",
       "Temperature_Lucca_Orto_Botanico               0\n",
       "Volume_POL                                 1827\n",
       "Volume_CC1                                 1827\n",
       "Volume_CC2                                 1827\n",
       "Volume_CSA                                 1827\n",
       "Volume_CSAL                                1827\n",
       "Hydrometry_Monte_S_Quirico                  246\n",
       "Hydrometry_Piaggione                       1368\n",
       "dtype: int64"
      ]
     },
     "execution_count": 11,
     "metadata": {},
     "output_type": "execute_result"
    }
   ],
   "source": [
    "auser.isnull().sum()"
   ]
  },
  {
   "cell_type": "code",
   "execution_count": 12,
   "metadata": {},
   "outputs": [
    {
     "data": {
      "text/plain": [
       "839    2000-06-21\n",
       "840    2000-06-22\n",
       "841    2000-06-23\n",
       "842    2000-06-24\n",
       "843    2000-06-25\n",
       "          ...    \n",
       "5642   2013-08-15\n",
       "5644   2013-08-17\n",
       "5647   2013-08-20\n",
       "7515   2018-10-01\n",
       "7629   2019-01-23\n",
       "Name: Date, Length: 246, dtype: datetime64[ns]"
      ]
     },
     "execution_count": 12,
     "metadata": {},
     "output_type": "execute_result"
    }
   ],
   "source": [
    "auser[auser['Hydrometry_Monte_S_Quirico'].isnull()]['Date']"
   ]
  },
  {
   "cell_type": "code",
   "execution_count": 13,
   "metadata": {
    "collapsed": true,
    "jupyter": {
     "outputs_hidden": true
    }
   },
   "outputs": [
    {
     "name": "stdout",
     "output_type": "stream",
     "text": [
      "2000-06-21 00:00:00\n",
      "2000-06-22 00:00:00\n",
      "2000-06-23 00:00:00\n",
      "2000-06-24 00:00:00\n",
      "2000-06-25 00:00:00\n",
      "2000-06-26 00:00:00\n",
      "2000-08-05 00:00:00\n",
      "2000-08-06 00:00:00\n",
      "2000-08-07 00:00:00\n",
      "2000-08-08 00:00:00\n",
      "2000-08-09 00:00:00\n",
      "2000-08-10 00:00:00\n",
      "2000-08-11 00:00:00\n",
      "2000-08-12 00:00:00\n",
      "2000-08-13 00:00:00\n",
      "2000-08-14 00:00:00\n",
      "2000-08-15 00:00:00\n",
      "2000-08-16 00:00:00\n",
      "2000-08-17 00:00:00\n",
      "2000-08-18 00:00:00\n",
      "2000-08-19 00:00:00\n",
      "2000-08-20 00:00:00\n",
      "2000-08-21 00:00:00\n",
      "2000-08-22 00:00:00\n",
      "2000-08-23 00:00:00\n",
      "2000-08-24 00:00:00\n",
      "2000-08-25 00:00:00\n",
      "2000-08-26 00:00:00\n",
      "2000-08-27 00:00:00\n",
      "2000-08-28 00:00:00\n",
      "2000-08-29 00:00:00\n",
      "2000-08-30 00:00:00\n",
      "2000-08-31 00:00:00\n",
      "2000-09-01 00:00:00\n",
      "2000-09-02 00:00:00\n",
      "2000-09-03 00:00:00\n",
      "2000-09-04 00:00:00\n",
      "2000-09-05 00:00:00\n",
      "2000-09-06 00:00:00\n",
      "2000-09-07 00:00:00\n",
      "2000-09-08 00:00:00\n",
      "2000-09-09 00:00:00\n",
      "2000-09-10 00:00:00\n",
      "2000-09-11 00:00:00\n",
      "2000-09-12 00:00:00\n",
      "2000-09-13 00:00:00\n",
      "2000-09-14 00:00:00\n",
      "2000-09-15 00:00:00\n",
      "2000-09-16 00:00:00\n",
      "2000-09-17 00:00:00\n",
      "2000-09-18 00:00:00\n",
      "2000-09-19 00:00:00\n",
      "2000-09-20 00:00:00\n",
      "2000-09-21 00:00:00\n",
      "2000-09-22 00:00:00\n",
      "2000-09-23 00:00:00\n",
      "2000-09-24 00:00:00\n",
      "2000-09-25 00:00:00\n",
      "2000-09-26 00:00:00\n",
      "2000-09-27 00:00:00\n",
      "2000-09-28 00:00:00\n",
      "2000-09-29 00:00:00\n",
      "2000-09-30 00:00:00\n",
      "2000-10-01 00:00:00\n",
      "2000-10-02 00:00:00\n",
      "2000-10-03 00:00:00\n",
      "2000-10-04 00:00:00\n",
      "2000-10-05 00:00:00\n",
      "2000-10-06 00:00:00\n",
      "2000-10-07 00:00:00\n",
      "2000-10-08 00:00:00\n",
      "2000-10-09 00:00:00\n",
      "2000-10-10 00:00:00\n",
      "2000-10-11 00:00:00\n",
      "2000-10-12 00:00:00\n",
      "2000-10-13 00:00:00\n",
      "2000-10-14 00:00:00\n",
      "2000-10-15 00:00:00\n",
      "2000-10-16 00:00:00\n",
      "2000-10-17 00:00:00\n",
      "2000-10-18 00:00:00\n",
      "2000-10-19 00:00:00\n",
      "2000-10-20 00:00:00\n",
      "2000-10-21 00:00:00\n",
      "2000-10-22 00:00:00\n",
      "2000-10-23 00:00:00\n",
      "2000-10-24 00:00:00\n",
      "2000-10-25 00:00:00\n",
      "2000-10-26 00:00:00\n",
      "2000-10-27 00:00:00\n",
      "2000-10-28 00:00:00\n",
      "2000-10-29 00:00:00\n",
      "2000-10-30 00:00:00\n",
      "2000-10-31 00:00:00\n",
      "2000-11-01 00:00:00\n",
      "2000-11-02 00:00:00\n",
      "2000-11-03 00:00:00\n",
      "2000-11-04 00:00:00\n",
      "2000-11-05 00:00:00\n",
      "2000-11-06 00:00:00\n",
      "2000-11-07 00:00:00\n",
      "2000-11-08 00:00:00\n",
      "2000-11-09 00:00:00\n",
      "2000-11-10 00:00:00\n",
      "2000-11-11 00:00:00\n",
      "2000-11-12 00:00:00\n",
      "2000-11-13 00:00:00\n",
      "2000-11-14 00:00:00\n",
      "2000-11-15 00:00:00\n",
      "2000-11-16 00:00:00\n",
      "2000-11-17 00:00:00\n",
      "2000-11-18 00:00:00\n",
      "2000-11-19 00:00:00\n",
      "2000-11-20 00:00:00\n",
      "2000-11-21 00:00:00\n",
      "2000-11-22 00:00:00\n",
      "2000-11-23 00:00:00\n",
      "2000-11-24 00:00:00\n",
      "2000-11-25 00:00:00\n",
      "2000-11-26 00:00:00\n",
      "2000-11-27 00:00:00\n",
      "2000-11-28 00:00:00\n",
      "2000-11-29 00:00:00\n",
      "2000-11-30 00:00:00\n",
      "2000-12-01 00:00:00\n",
      "2000-12-02 00:00:00\n",
      "2000-12-03 00:00:00\n",
      "2000-12-04 00:00:00\n",
      "2000-12-05 00:00:00\n",
      "2000-12-06 00:00:00\n",
      "2000-12-07 00:00:00\n",
      "2000-12-08 00:00:00\n",
      "2000-12-09 00:00:00\n",
      "2000-12-10 00:00:00\n",
      "2000-12-11 00:00:00\n",
      "2000-12-12 00:00:00\n",
      "2000-12-13 00:00:00\n",
      "2000-12-14 00:00:00\n",
      "2000-12-15 00:00:00\n",
      "2000-12-16 00:00:00\n",
      "2000-12-17 00:00:00\n",
      "2000-12-18 00:00:00\n",
      "2000-12-19 00:00:00\n",
      "2000-12-20 00:00:00\n",
      "2000-12-21 00:00:00\n",
      "2000-12-22 00:00:00\n",
      "2000-12-23 00:00:00\n",
      "2000-12-24 00:00:00\n",
      "2000-12-25 00:00:00\n",
      "2000-12-26 00:00:00\n",
      "2000-12-27 00:00:00\n",
      "2000-12-28 00:00:00\n",
      "2000-12-29 00:00:00\n",
      "2000-12-30 00:00:00\n",
      "2000-12-31 00:00:00\n",
      "2007-10-25 00:00:00\n",
      "2007-10-26 00:00:00\n",
      "2007-10-27 00:00:00\n",
      "2007-10-28 00:00:00\n",
      "2007-10-29 00:00:00\n",
      "2007-10-30 00:00:00\n",
      "2008-10-17 00:00:00\n",
      "2008-10-18 00:00:00\n",
      "2008-10-19 00:00:00\n",
      "2008-10-20 00:00:00\n",
      "2008-10-21 00:00:00\n",
      "2008-10-22 00:00:00\n",
      "2008-10-23 00:00:00\n",
      "2008-10-24 00:00:00\n",
      "2008-10-25 00:00:00\n",
      "2008-10-26 00:00:00\n",
      "2008-10-27 00:00:00\n",
      "2008-10-28 00:00:00\n",
      "2008-10-29 00:00:00\n",
      "2008-10-30 00:00:00\n",
      "2008-10-31 00:00:00\n",
      "2008-11-01 00:00:00\n",
      "2008-11-02 00:00:00\n",
      "2008-11-03 00:00:00\n",
      "2008-11-04 00:00:00\n",
      "2008-11-05 00:00:00\n",
      "2008-11-06 00:00:00\n",
      "2008-11-07 00:00:00\n",
      "2008-11-08 00:00:00\n",
      "2008-11-09 00:00:00\n",
      "2008-11-10 00:00:00\n",
      "2008-11-11 00:00:00\n",
      "2008-11-12 00:00:00\n",
      "2008-11-13 00:00:00\n",
      "2008-11-14 00:00:00\n",
      "2008-11-15 00:00:00\n",
      "2008-11-16 00:00:00\n",
      "2008-11-17 00:00:00\n",
      "2008-11-18 00:00:00\n",
      "2008-11-19 00:00:00\n",
      "2008-11-20 00:00:00\n",
      "2008-11-21 00:00:00\n",
      "2008-11-22 00:00:00\n",
      "2008-11-23 00:00:00\n",
      "2008-11-24 00:00:00\n",
      "2008-11-25 00:00:00\n",
      "2008-11-26 00:00:00\n",
      "2008-11-27 00:00:00\n",
      "2008-11-28 00:00:00\n",
      "2008-11-29 00:00:00\n",
      "2008-11-30 00:00:00\n",
      "2008-12-01 00:00:00\n",
      "2008-12-02 00:00:00\n",
      "2008-12-03 00:00:00\n",
      "2008-12-04 00:00:00\n",
      "2008-12-05 00:00:00\n",
      "2008-12-06 00:00:00\n",
      "2008-12-07 00:00:00\n",
      "2008-12-08 00:00:00\n",
      "2008-12-09 00:00:00\n",
      "2008-12-10 00:00:00\n",
      "2008-12-11 00:00:00\n",
      "2008-12-12 00:00:00\n",
      "2008-12-13 00:00:00\n",
      "2008-12-14 00:00:00\n",
      "2008-12-15 00:00:00\n",
      "2008-12-16 00:00:00\n",
      "2008-12-17 00:00:00\n",
      "2008-12-18 00:00:00\n",
      "2008-12-19 00:00:00\n",
      "2008-12-20 00:00:00\n",
      "2008-12-21 00:00:00\n",
      "2008-12-22 00:00:00\n",
      "2008-12-23 00:00:00\n",
      "2008-12-24 00:00:00\n",
      "2008-12-25 00:00:00\n",
      "2008-12-26 00:00:00\n",
      "2008-12-27 00:00:00\n",
      "2008-12-28 00:00:00\n",
      "2008-12-29 00:00:00\n",
      "2008-12-30 00:00:00\n",
      "2008-12-31 00:00:00\n",
      "2013-08-03 00:00:00\n",
      "2013-08-04 00:00:00\n",
      "2013-08-11 00:00:00\n",
      "2013-08-12 00:00:00\n",
      "2013-08-15 00:00:00\n",
      "2013-08-17 00:00:00\n",
      "2013-08-20 00:00:00\n",
      "2018-10-01 00:00:00\n",
      "2019-01-23 00:00:00\n"
     ]
    }
   ],
   "source": [
    "# BOTH HYDROMETRIES\n",
    "#\n",
    "# 6/21/00 - 6/25/00 (Quirico includes 6/26)\n",
    "# 8/5/00 - 12/31/00\n",
    "# 10/25/07 (Quirico includes 10/26 - 10/30)\n",
    "# 10/17/08 - 12/31/08\n",
    "\n",
    "# MISSING IN QUIRICO\n",
    "# 8/3, 8/4, 8/11, 8/12, 8/15, 8/17, 8/20/13\n",
    "# 10/1/18\n",
    "# 1/23/19\n",
    "\n",
    "for d in auser[auser['Hydrometry_Monte_S_Quirico'].isnull()]['Date']:\n",
    "    print(d)"
   ]
  },
  {
   "cell_type": "code",
   "execution_count": 14,
   "metadata": {},
   "outputs": [
    {
     "data": {
      "text/plain": [
       "231"
      ]
     },
     "execution_count": 14,
     "metadata": {},
     "output_type": "execute_result"
    }
   ],
   "source": [
    "auser[auser['Hydrometry_Piaggione'].isnull()]['Date'].isin(auser[auser['Hydrometry_Monte_S_Quirico'].isnull()]['Date']).sum()"
   ]
  },
  {
   "cell_type": "code",
   "execution_count": 15,
   "metadata": {},
   "outputs": [],
   "source": [
    "null_hydro_a = auser[auser['Hydrometry_Monte_S_Quirico'].isnull()]['Date'].values\n",
    "null_hydro_b = auser[auser['Hydrometry_Piaggione'].isnull()]['Date'].values"
   ]
  },
  {
   "cell_type": "code",
   "execution_count": 16,
   "metadata": {},
   "outputs": [],
   "source": [
    "null_hydro_ab = auser[auser['Hydrometry_Monte_S_Quirico'].isnull() & auser['Hydrometry_Piaggione'].isnull()]['Date'].values"
   ]
  },
  {
   "cell_type": "code",
   "execution_count": 17,
   "metadata": {},
   "outputs": [],
   "source": [
    "null_hydro_a = [d for d in null_hydro_a if d not in null_hydro_ab]\n",
    "null_hydro_b = [d for d in null_hydro_b if d not in null_hydro_ab]"
   ]
  },
  {
   "cell_type": "code",
   "execution_count": 18,
   "metadata": {},
   "outputs": [
    {
     "data": {
      "text/plain": [
       "[numpy.datetime64('2000-06-26T00:00:00.000000000'),\n",
       " numpy.datetime64('2007-10-26T00:00:00.000000000'),\n",
       " numpy.datetime64('2007-10-27T00:00:00.000000000'),\n",
       " numpy.datetime64('2007-10-28T00:00:00.000000000'),\n",
       " numpy.datetime64('2007-10-29T00:00:00.000000000'),\n",
       " numpy.datetime64('2007-10-30T00:00:00.000000000'),\n",
       " numpy.datetime64('2013-08-03T00:00:00.000000000'),\n",
       " numpy.datetime64('2013-08-04T00:00:00.000000000'),\n",
       " numpy.datetime64('2013-08-11T00:00:00.000000000'),\n",
       " numpy.datetime64('2013-08-12T00:00:00.000000000'),\n",
       " numpy.datetime64('2013-08-15T00:00:00.000000000'),\n",
       " numpy.datetime64('2013-08-17T00:00:00.000000000'),\n",
       " numpy.datetime64('2013-08-20T00:00:00.000000000'),\n",
       " numpy.datetime64('2018-10-01T00:00:00.000000000'),\n",
       " numpy.datetime64('2019-01-23T00:00:00.000000000')]"
      ]
     },
     "execution_count": 18,
     "metadata": {},
     "output_type": "execute_result"
    }
   ],
   "source": [
    "null_hydro_a"
   ]
  },
  {
   "cell_type": "code",
   "execution_count": 19,
   "metadata": {},
   "outputs": [
    {
     "data": {
      "text/plain": [
       "1137"
      ]
     },
     "execution_count": 19,
     "metadata": {},
     "output_type": "execute_result"
    }
   ],
   "source": [
    "len(null_hydro_b)"
   ]
  },
  {
   "cell_type": "code",
   "execution_count": 20,
   "metadata": {
    "collapsed": true,
    "jupyter": {
     "outputs_hidden": true
    }
   },
   "outputs": [
    {
     "data": {
      "text/plain": [
       "array(['2000-06-21T00:00:00.000000000', '2000-06-22T00:00:00.000000000',\n",
       "       '2000-06-23T00:00:00.000000000', '2000-06-24T00:00:00.000000000',\n",
       "       '2000-06-25T00:00:00.000000000', '2000-08-05T00:00:00.000000000',\n",
       "       '2000-08-06T00:00:00.000000000', '2000-08-07T00:00:00.000000000',\n",
       "       '2000-08-08T00:00:00.000000000', '2000-08-09T00:00:00.000000000',\n",
       "       '2000-08-10T00:00:00.000000000', '2000-08-11T00:00:00.000000000',\n",
       "       '2000-08-12T00:00:00.000000000', '2000-08-13T00:00:00.000000000',\n",
       "       '2000-08-14T00:00:00.000000000', '2000-08-15T00:00:00.000000000',\n",
       "       '2000-08-16T00:00:00.000000000', '2000-08-17T00:00:00.000000000',\n",
       "       '2000-08-18T00:00:00.000000000', '2000-08-19T00:00:00.000000000',\n",
       "       '2000-08-20T00:00:00.000000000', '2000-08-21T00:00:00.000000000',\n",
       "       '2000-08-22T00:00:00.000000000', '2000-08-23T00:00:00.000000000',\n",
       "       '2000-08-24T00:00:00.000000000', '2000-08-25T00:00:00.000000000',\n",
       "       '2000-08-26T00:00:00.000000000', '2000-08-27T00:00:00.000000000',\n",
       "       '2000-08-28T00:00:00.000000000', '2000-08-29T00:00:00.000000000',\n",
       "       '2000-08-30T00:00:00.000000000', '2000-08-31T00:00:00.000000000',\n",
       "       '2000-09-01T00:00:00.000000000', '2000-09-02T00:00:00.000000000',\n",
       "       '2000-09-03T00:00:00.000000000', '2000-09-04T00:00:00.000000000',\n",
       "       '2000-09-05T00:00:00.000000000', '2000-09-06T00:00:00.000000000',\n",
       "       '2000-09-07T00:00:00.000000000', '2000-09-08T00:00:00.000000000',\n",
       "       '2000-09-09T00:00:00.000000000', '2000-09-10T00:00:00.000000000',\n",
       "       '2000-09-11T00:00:00.000000000', '2000-09-12T00:00:00.000000000',\n",
       "       '2000-09-13T00:00:00.000000000', '2000-09-14T00:00:00.000000000',\n",
       "       '2000-09-15T00:00:00.000000000', '2000-09-16T00:00:00.000000000',\n",
       "       '2000-09-17T00:00:00.000000000', '2000-09-18T00:00:00.000000000',\n",
       "       '2000-09-19T00:00:00.000000000', '2000-09-20T00:00:00.000000000',\n",
       "       '2000-09-21T00:00:00.000000000', '2000-09-22T00:00:00.000000000',\n",
       "       '2000-09-23T00:00:00.000000000', '2000-09-24T00:00:00.000000000',\n",
       "       '2000-09-25T00:00:00.000000000', '2000-09-26T00:00:00.000000000',\n",
       "       '2000-09-27T00:00:00.000000000', '2000-09-28T00:00:00.000000000',\n",
       "       '2000-09-29T00:00:00.000000000', '2000-09-30T00:00:00.000000000',\n",
       "       '2000-10-01T00:00:00.000000000', '2000-10-02T00:00:00.000000000',\n",
       "       '2000-10-03T00:00:00.000000000', '2000-10-04T00:00:00.000000000',\n",
       "       '2000-10-05T00:00:00.000000000', '2000-10-06T00:00:00.000000000',\n",
       "       '2000-10-07T00:00:00.000000000', '2000-10-08T00:00:00.000000000',\n",
       "       '2000-10-09T00:00:00.000000000', '2000-10-10T00:00:00.000000000',\n",
       "       '2000-10-11T00:00:00.000000000', '2000-10-12T00:00:00.000000000',\n",
       "       '2000-10-13T00:00:00.000000000', '2000-10-14T00:00:00.000000000',\n",
       "       '2000-10-15T00:00:00.000000000', '2000-10-16T00:00:00.000000000',\n",
       "       '2000-10-17T00:00:00.000000000', '2000-10-18T00:00:00.000000000',\n",
       "       '2000-10-19T00:00:00.000000000', '2000-10-20T00:00:00.000000000',\n",
       "       '2000-10-21T00:00:00.000000000', '2000-10-22T00:00:00.000000000',\n",
       "       '2000-10-23T00:00:00.000000000', '2000-10-24T00:00:00.000000000',\n",
       "       '2000-10-25T00:00:00.000000000', '2000-10-26T00:00:00.000000000',\n",
       "       '2000-10-27T00:00:00.000000000', '2000-10-28T00:00:00.000000000',\n",
       "       '2000-10-29T00:00:00.000000000', '2000-10-30T00:00:00.000000000',\n",
       "       '2000-10-31T00:00:00.000000000', '2000-11-01T00:00:00.000000000',\n",
       "       '2000-11-02T00:00:00.000000000', '2000-11-03T00:00:00.000000000',\n",
       "       '2000-11-04T00:00:00.000000000', '2000-11-05T00:00:00.000000000',\n",
       "       '2000-11-06T00:00:00.000000000', '2000-11-07T00:00:00.000000000',\n",
       "       '2000-11-08T00:00:00.000000000', '2000-11-09T00:00:00.000000000',\n",
       "       '2000-11-10T00:00:00.000000000', '2000-11-11T00:00:00.000000000',\n",
       "       '2000-11-12T00:00:00.000000000', '2000-11-13T00:00:00.000000000',\n",
       "       '2000-11-14T00:00:00.000000000', '2000-11-15T00:00:00.000000000',\n",
       "       '2000-11-16T00:00:00.000000000', '2000-11-17T00:00:00.000000000',\n",
       "       '2000-11-18T00:00:00.000000000', '2000-11-19T00:00:00.000000000',\n",
       "       '2000-11-20T00:00:00.000000000', '2000-11-21T00:00:00.000000000',\n",
       "       '2000-11-22T00:00:00.000000000', '2000-11-23T00:00:00.000000000',\n",
       "       '2000-11-24T00:00:00.000000000', '2000-11-25T00:00:00.000000000',\n",
       "       '2000-11-26T00:00:00.000000000', '2000-11-27T00:00:00.000000000',\n",
       "       '2000-11-28T00:00:00.000000000', '2000-11-29T00:00:00.000000000',\n",
       "       '2000-11-30T00:00:00.000000000', '2000-12-01T00:00:00.000000000',\n",
       "       '2000-12-02T00:00:00.000000000', '2000-12-03T00:00:00.000000000',\n",
       "       '2000-12-04T00:00:00.000000000', '2000-12-05T00:00:00.000000000',\n",
       "       '2000-12-06T00:00:00.000000000', '2000-12-07T00:00:00.000000000',\n",
       "       '2000-12-08T00:00:00.000000000', '2000-12-09T00:00:00.000000000',\n",
       "       '2000-12-10T00:00:00.000000000', '2000-12-11T00:00:00.000000000',\n",
       "       '2000-12-12T00:00:00.000000000', '2000-12-13T00:00:00.000000000',\n",
       "       '2000-12-14T00:00:00.000000000', '2000-12-15T00:00:00.000000000',\n",
       "       '2000-12-16T00:00:00.000000000', '2000-12-17T00:00:00.000000000',\n",
       "       '2000-12-18T00:00:00.000000000', '2000-12-19T00:00:00.000000000',\n",
       "       '2000-12-20T00:00:00.000000000', '2000-12-21T00:00:00.000000000',\n",
       "       '2000-12-22T00:00:00.000000000', '2000-12-23T00:00:00.000000000',\n",
       "       '2000-12-24T00:00:00.000000000', '2000-12-25T00:00:00.000000000',\n",
       "       '2000-12-26T00:00:00.000000000', '2000-12-27T00:00:00.000000000',\n",
       "       '2000-12-28T00:00:00.000000000', '2000-12-29T00:00:00.000000000',\n",
       "       '2000-12-30T00:00:00.000000000', '2000-12-31T00:00:00.000000000',\n",
       "       '2007-10-25T00:00:00.000000000', '2008-10-17T00:00:00.000000000',\n",
       "       '2008-10-18T00:00:00.000000000', '2008-10-19T00:00:00.000000000',\n",
       "       '2008-10-20T00:00:00.000000000', '2008-10-21T00:00:00.000000000',\n",
       "       '2008-10-22T00:00:00.000000000', '2008-10-23T00:00:00.000000000',\n",
       "       '2008-10-24T00:00:00.000000000', '2008-10-25T00:00:00.000000000',\n",
       "       '2008-10-26T00:00:00.000000000', '2008-10-27T00:00:00.000000000',\n",
       "       '2008-10-28T00:00:00.000000000', '2008-10-29T00:00:00.000000000',\n",
       "       '2008-10-30T00:00:00.000000000', '2008-10-31T00:00:00.000000000',\n",
       "       '2008-11-01T00:00:00.000000000', '2008-11-02T00:00:00.000000000',\n",
       "       '2008-11-03T00:00:00.000000000', '2008-11-04T00:00:00.000000000',\n",
       "       '2008-11-05T00:00:00.000000000', '2008-11-06T00:00:00.000000000',\n",
       "       '2008-11-07T00:00:00.000000000', '2008-11-08T00:00:00.000000000',\n",
       "       '2008-11-09T00:00:00.000000000', '2008-11-10T00:00:00.000000000',\n",
       "       '2008-11-11T00:00:00.000000000', '2008-11-12T00:00:00.000000000',\n",
       "       '2008-11-13T00:00:00.000000000', '2008-11-14T00:00:00.000000000',\n",
       "       '2008-11-15T00:00:00.000000000', '2008-11-16T00:00:00.000000000',\n",
       "       '2008-11-17T00:00:00.000000000', '2008-11-18T00:00:00.000000000',\n",
       "       '2008-11-19T00:00:00.000000000', '2008-11-20T00:00:00.000000000',\n",
       "       '2008-11-21T00:00:00.000000000', '2008-11-22T00:00:00.000000000',\n",
       "       '2008-11-23T00:00:00.000000000', '2008-11-24T00:00:00.000000000',\n",
       "       '2008-11-25T00:00:00.000000000', '2008-11-26T00:00:00.000000000',\n",
       "       '2008-11-27T00:00:00.000000000', '2008-11-28T00:00:00.000000000',\n",
       "       '2008-11-29T00:00:00.000000000', '2008-11-30T00:00:00.000000000',\n",
       "       '2008-12-01T00:00:00.000000000', '2008-12-02T00:00:00.000000000',\n",
       "       '2008-12-03T00:00:00.000000000', '2008-12-04T00:00:00.000000000',\n",
       "       '2008-12-05T00:00:00.000000000', '2008-12-06T00:00:00.000000000',\n",
       "       '2008-12-07T00:00:00.000000000', '2008-12-08T00:00:00.000000000',\n",
       "       '2008-12-09T00:00:00.000000000', '2008-12-10T00:00:00.000000000',\n",
       "       '2008-12-11T00:00:00.000000000', '2008-12-12T00:00:00.000000000',\n",
       "       '2008-12-13T00:00:00.000000000', '2008-12-14T00:00:00.000000000',\n",
       "       '2008-12-15T00:00:00.000000000', '2008-12-16T00:00:00.000000000',\n",
       "       '2008-12-17T00:00:00.000000000', '2008-12-18T00:00:00.000000000',\n",
       "       '2008-12-19T00:00:00.000000000', '2008-12-20T00:00:00.000000000',\n",
       "       '2008-12-21T00:00:00.000000000', '2008-12-22T00:00:00.000000000',\n",
       "       '2008-12-23T00:00:00.000000000', '2008-12-24T00:00:00.000000000',\n",
       "       '2008-12-25T00:00:00.000000000', '2008-12-26T00:00:00.000000000',\n",
       "       '2008-12-27T00:00:00.000000000', '2008-12-28T00:00:00.000000000',\n",
       "       '2008-12-29T00:00:00.000000000', '2008-12-30T00:00:00.000000000',\n",
       "       '2008-12-31T00:00:00.000000000'], dtype='datetime64[ns]')"
      ]
     },
     "execution_count": 20,
     "metadata": {},
     "output_type": "execute_result"
    }
   ],
   "source": [
    "null_hydro_ab"
   ]
  },
  {
   "cell_type": "code",
   "execution_count": 21,
   "metadata": {},
   "outputs": [
    {
     "data": {
      "text/plain": [
       "count                             1137\n",
       "mean     2008-10-31 03:01:06.490765056\n",
       "min                2001-01-22 00:00:00\n",
       "25%                2007-09-28 00:00:00\n",
       "50%                2009-06-18 00:00:00\n",
       "75%                2010-03-29 00:00:00\n",
       "max                2020-05-05 00:00:00\n",
       "dtype: object"
      ]
     },
     "execution_count": 21,
     "metadata": {},
     "output_type": "execute_result"
    }
   ],
   "source": [
    "pd.Series(null_hydro_b).describe(datetime_is_numeric=True)"
   ]
  },
  {
   "cell_type": "code",
   "execution_count": 22,
   "metadata": {},
   "outputs": [
    {
     "data": {
      "text/plain": [
       "[numpy.datetime64('2001-01-22T00:00:00.000000000'),\n",
       " numpy.datetime64('2001-01-23T00:00:00.000000000'),\n",
       " numpy.datetime64('2001-01-24T00:00:00.000000000'),\n",
       " numpy.datetime64('2001-01-25T00:00:00.000000000'),\n",
       " numpy.datetime64('2001-01-26T00:00:00.000000000'),\n",
       " numpy.datetime64('2001-01-27T00:00:00.000000000'),\n",
       " numpy.datetime64('2001-01-28T00:00:00.000000000'),\n",
       " numpy.datetime64('2003-08-30T00:00:00.000000000'),\n",
       " numpy.datetime64('2003-08-31T00:00:00.000000000'),\n",
       " numpy.datetime64('2003-09-01T00:00:00.000000000'),\n",
       " numpy.datetime64('2003-09-02T00:00:00.000000000'),\n",
       " numpy.datetime64('2003-09-03T00:00:00.000000000'),\n",
       " numpy.datetime64('2003-09-04T00:00:00.000000000'),\n",
       " numpy.datetime64('2003-09-05T00:00:00.000000000'),\n",
       " numpy.datetime64('2003-09-06T00:00:00.000000000'),\n",
       " numpy.datetime64('2003-09-07T00:00:00.000000000'),\n",
       " numpy.datetime64('2003-09-08T00:00:00.000000000'),\n",
       " numpy.datetime64('2003-09-09T00:00:00.000000000'),\n",
       " numpy.datetime64('2003-09-10T00:00:00.000000000'),\n",
       " numpy.datetime64('2003-09-11T00:00:00.000000000')]"
      ]
     },
     "execution_count": 22,
     "metadata": {},
     "output_type": "execute_result"
    }
   ],
   "source": [
    "null_hydro_b[:20]"
   ]
  },
  {
   "cell_type": "code",
   "execution_count": 30,
   "metadata": {},
   "outputs": [
    {
     "data": {
      "text/plain": [
       "22"
      ]
     },
     "execution_count": 30,
     "metadata": {},
     "output_type": "execute_result"
    }
   ],
   "source": [
    "pd.Timestamp(null_hydro_b[0]).day"
   ]
  },
  {
   "cell_type": "code",
   "execution_count": 31,
   "metadata": {},
   "outputs": [],
   "source": [
    "def ts_success(a, b):\n",
    "    return (b - a).days == 1"
   ]
  },
  {
   "cell_type": "code",
   "execution_count": 33,
   "metadata": {},
   "outputs": [],
   "source": [
    "ranges = []\n",
    "curr = None\n",
    "for d in null_hydro_b:\n",
    "    ts = pd.Timestamp(d)\n",
    "    if curr is None:\n",
    "        curr = [d]\n",
    "    else:\n",
    "        last = curr[-1]\n",
    "        if ts_success(last, ts):\n",
    "            curr.append(d)\n",
    "        else:\n",
    "            ranges.append(curr)\n",
    "            curr = [d]\n",
    "ranges.append(curr)"
   ]
  },
  {
   "cell_type": "code",
   "execution_count": 36,
   "metadata": {},
   "outputs": [
    {
     "data": {
      "text/plain": [
       "[7, 25, 109, 57, 7, 88, 107, 730, 1, 1, 1, 1, 1, 1, 1]"
      ]
     },
     "execution_count": 36,
     "metadata": {},
     "output_type": "execute_result"
    }
   ],
   "source": [
    "[len(_) for _ in ranges]"
   ]
  },
  {
   "cell_type": "code",
   "execution_count": 45,
   "metadata": {},
   "outputs": [
    {
     "name": "stdout",
     "output_type": "stream",
     "text": [
      "2001-01-28T00:00:00.000000000\n",
      "2003-09-23T00:00:00.000000000\n",
      "2005-04-19T00:00:00.000000000\n",
      "2005-09-13T00:00:00.000000000\n",
      "2007-01-07T00:00:00.000000000\n",
      "2007-10-06T00:00:00.000000000\n",
      "2008-10-16T00:00:00.000000000\n",
      "2010-12-31T00:00:00.000000000\n",
      "2013-04-21T00:00:00.000000000\n",
      "2013-04-26T00:00:00.000000000\n",
      "2014-01-29T00:00:00.000000000\n",
      "2014-06-25T00:00:00.000000000\n",
      "2019-01-08T00:00:00.000000000\n",
      "2019-09-27T00:00:00.000000000\n",
      "2020-05-05T00:00:00.000000000\n"
     ]
    }
   ],
   "source": [
    "for r in ranges:\n",
    "    print(r[-1])"
   ]
  },
  {
   "cell_type": "code",
   "execution_count": 50,
   "metadata": {},
   "outputs": [
    {
     "data": {
      "text/plain": [
       "['01/22/01 - 01/28/01',\n",
       " '08/30/03 - 09/23/03',\n",
       " '01/01/05 - 04/19/05',\n",
       " '07/19/05 - 09/13/05',\n",
       " '01/01/07 - 01/07/07',\n",
       " '07/11/07 - 10/06/07',\n",
       " '07/02/08 - 10/16/08',\n",
       " '01/01/09 - 12/31/10',\n",
       " '04/21/13',\n",
       " '04/26/13',\n",
       " '01/29/14',\n",
       " '06/25/14',\n",
       " '01/08/19',\n",
       " '09/27/19',\n",
       " '05/05/20']"
      ]
     },
     "execution_count": 50,
     "metadata": {},
     "output_type": "execute_result"
    }
   ],
   "source": [
    "r2 = [[pd.Timestamp(r[0]).strftime('%D'), pd.Timestamp(r[-1]).strftime('%D')] for r in ranges]\n",
    "r2 = [r if r[0] != r[1] else [r[0]] for r in r2]\n",
    "r2 = [r[0] if len(r) == 1 else f\"{r[0]} - {r[1]}\" for r in r2]\n",
    "r2"
   ]
  },
  {
   "cell_type": "code",
   "execution_count": 71,
   "metadata": {},
   "outputs": [
    {
     "data": {
      "text/plain": [
       "['06/21/00—06/26/00',\n",
       " '08/05/00—12/31/00',\n",
       " '10/25/07—10/30/07',\n",
       " '10/17/08—12/31/08',\n",
       " '08/03/13—08/04/13',\n",
       " '08/11/13—08/12/13',\n",
       " '08/15/13',\n",
       " '08/17/13',\n",
       " '08/20/13',\n",
       " '10/01/18',\n",
       " '01/23/19']"
      ]
     },
     "execution_count": 71,
     "metadata": {},
     "output_type": "execute_result"
    }
   ],
   "source": [
    "def ts_success(a, b):\n",
    "    return (b - a).days == 1\n",
    "\n",
    "def date_of_null(s):\n",
    "    r = []\n",
    "    curr = None\n",
    "    for d in s:\n",
    "        try:\n",
    "            pd.Timestamp(d).strftime('%D')\n",
    "        except TypeError:\n",
    "            print(d)\n",
    "            continue\n",
    "        if d is None:\n",
    "            continue\n",
    "        if curr is None:\n",
    "            curr = [d]\n",
    "        else:\n",
    "            last = curr[-1]\n",
    "            if ts_success(pd.Timestamp(last), pd.Timestamp(d)):\n",
    "                curr.append(d)\n",
    "            else:\n",
    "                r.append(curr)\n",
    "                curr = [d]\n",
    "    r.append(curr)\n",
    "    if len(r) == 1 and r[0] is None:\n",
    "        return []\n",
    "    for x in r:\n",
    "        try:\n",
    "            pd.Timestamp(x[0]).strftime('%D')\n",
    "        except TypeError:\n",
    "            print(r)\n",
    "    r = [[pd.Timestamp(d[0]).strftime('%D'), pd.Timestamp(d[-1]).strftime('%D')] for d in r]\n",
    "    r = [d if d[0] != d[1] else [d[0]] for d in r]\n",
    "    r = [d[0] if len(d) == 1 else f\"{d[0]}—{d[1]}\" for d in r]\n",
    "    return r\n",
    "\n",
    "def find_null_dates(df, col, date_col='Date'):\n",
    "    return date_of_null(df[df[col].isnull()][date_col].values)\n",
    "\n",
    "find_null_dates(auser, 'Hydrometry_Monte_S_Quirico')"
   ]
  },
  {
   "cell_type": "code",
   "execution_count": 76,
   "metadata": {},
   "outputs": [
    {
     "name": "stdout",
     "output_type": "stream",
     "text": [
      "Date\n",
      "\n",
      "Rainfall_Gallicano\n",
      "\t 01/01/00—12/31/05\n",
      "\n",
      "Rainfall_Pontetetto\n",
      "\t 01/01/00—12/31/05\n",
      "\n",
      "Rainfall_Monte_Serra\n",
      "\t 01/01/00—12/31/05\n",
      "\t 02/01/12\n",
      "\t 02/03/12—02/04/12\n",
      "\t 02/10/12—02/11/12\n",
      "\t 02/15/12\n",
      "\n",
      "Rainfall_Orentano\n",
      "\t 01/01/00—12/31/05\n",
      "\n",
      "Rainfall_Borgo_a_Mozzano\n",
      "\t 01/01/00—12/31/05\n",
      "\n",
      "Rainfall_Piaggione\n",
      "\t 01/01/00—12/31/05\n",
      "\t 01/01/09—12/31/09\n",
      "\n",
      "Rainfall_Calavorno\n",
      "\t 01/01/00—12/31/05\n",
      "\n",
      "Rainfall_Croce_Arcana\n",
      "\t 01/01/00—12/31/05\n",
      "\n",
      "Rainfall_Tereglio_Coreglia_Antelminelli\n",
      "\t 01/01/00—12/31/05\n",
      "\n",
      "Rainfall_Fabbriche_di_Vallico\n",
      "\t 01/01/00—12/31/05\n",
      "\n",
      "Depth_to_Groundwater_LT2\n",
      "\t 01/01/00—12/31/05\n",
      "\t 11/18/07\n",
      "\t 12/25/09—12/31/09\n",
      "\t 12/24/10—12/31/10\n",
      "\t 02/10/11—05/16/11\n",
      "\t 02/03/12—02/04/12\n",
      "\t 02/21/12—05/28/12\n",
      "\t 07/04/12—08/08/12\n",
      "\t 10/23/14—11/19/14\n",
      "\t 08/19/15—08/20/15\n",
      "\t 12/20/15\n",
      "\t 01/20/16—01/28/16\n",
      "\t 01/30/16—02/16/16\n",
      "\t 02/18/16—02/23/16\n",
      "\t 02/25/16—02/28/16\n",
      "\t 03/01/16—03/08/16\n",
      "\t 03/10/16—03/14/16\n",
      "\t 03/16/16—03/22/16\n",
      "\t 03/24/16—03/28/16\n",
      "\t 03/31/16—04/05/16\n",
      "\t 04/07/16—04/11/16\n",
      "\t 04/13/16—04/20/16\n",
      "\t 04/22/16—04/27/16\n",
      "\t 04/29/16—05/04/16\n",
      "\t 05/06/16—05/10/16\n",
      "\t 05/12/16—05/16/16\n",
      "\t 05/18/16—05/25/16\n",
      "\t 05/27/16—05/31/16\n",
      "\t 06/02/16—06/07/16\n",
      "\t 06/09/16—06/14/16\n",
      "\t 06/16/16—06/19/16\n",
      "\t 06/21/16—06/27/16\n",
      "\t 06/29/16—07/05/16\n",
      "\t 07/07/16—07/11/16\n",
      "\t 07/13/16—07/21/16\n",
      "\t 07/23/16—07/27/16\n",
      "\t 07/29/16—08/08/16\n",
      "\t 08/10/16—08/17/16\n",
      "\t 08/19/16—08/28/16\n",
      "\t 08/30/16—09/01/16\n",
      "\t 11/30/17—12/04/17\n",
      "\t 03/02/19—03/13/19\n",
      "\n",
      "Depth_to_Groundwater_SAL\n",
      "\t 01/01/00—04/05/07\n",
      "\t 03/04/09—08/10/09\n",
      "\t 08/18/09\n",
      "\t 03/23/11\n",
      "\t 05/21/12—05/24/12\n",
      "\t 05/31/12—06/01/12\n",
      "\t 08/06/15\n",
      "\t 08/19/15—08/20/15\n",
      "\t 12/21/15—12/27/15\n",
      "\t 01/16/16—01/22/16\n",
      "\t 02/11/16\n",
      "\t 02/14/16—02/15/16\n",
      "\t 06/27/16—07/05/16\n",
      "\t 08/10/16\n",
      "\t 08/12/16—08/15/16\n",
      "\t 08/25/16\n",
      "\t 08/30/16—09/02/16\n",
      "\t 09/04/16—11/01/16\n",
      "\t 11/03/16—11/05/16\n",
      "\t 01/20/18—01/22/18\n",
      "\t 04/20/19—05/07/19\n",
      "\n",
      "Depth_to_Groundwater_PAG\n",
      "\t 01/01/00—12/31/08\n",
      "\t 03/23/11\n",
      "\t 07/27/11—09/17/11\n",
      "\t 01/31/12—02/12/12\n",
      "\t 06/05/12—06/27/12\n",
      "\t 07/09/12—07/17/12\n",
      "\t 07/24/12\n",
      "\t 08/24/12—08/25/12\n",
      "\t 09/18/12—10/02/12\n",
      "\t 10/10/12—10/22/12\n",
      "\t 12/25/12—01/03/13\n",
      "\t 01/22/13—02/12/13\n",
      "\t 08/31/13—09/06/13\n",
      "\t 09/11/13—09/18/13\n",
      "\t 09/25/13—10/24/13\n",
      "\t 03/05/14—03/19/14\n",
      "\t 04/15/14—09/16/14\n",
      "\t 03/23/15—03/27/15\n",
      "\t 04/25/15—04/29/15\n",
      "\t 04/01/17—04/05/17\n",
      "\n",
      "Depth_to_Groundwater_CoS\n",
      "\t 01/01/00—06/28/06\n",
      "\t 06/21/07—01/24/08\n",
      "\t 12/31/08\n",
      "\t 09/15/09—09/23/09\n",
      "\t 11/20/10—05/13/11\n",
      "\t 07/25/11—07/30/11\n",
      "\t 09/07/11—09/20/11\n",
      "\t 02/02/12—02/19/12\n",
      "\t 03/23/13—04/08/13\n",
      "\t 10/16/13—11/11/13\n",
      "\t 11/28/13\n",
      "\t 12/02/13\n",
      "\t 12/04/13—03/19/14\n",
      "\t 04/24/14—06/29/14\n",
      "\t 07/28/14—08/12/14\n",
      "\t 08/15/14—08/16/14\n",
      "\t 08/23/14—09/18/14\n",
      "\t 11/14/14—11/15/14\n",
      "\t 12/13/14\n",
      "\t 12/22/14—12/27/14\n",
      "\t 01/22/15\n",
      "\t 02/21/15—03/25/15\n",
      "\t 08/19/15\n",
      "\t 12/22/15—12/28/15\n",
      "\t 09/01/16—09/05/16\n",
      "\t 03/22/17—03/25/17\n",
      "\t 05/02/17—05/13/17\n",
      "\t 09/16/18—10/02/18\n",
      "\t 01/01/20—01/07/20\n",
      "\n",
      "Depth_to_Groundwater_DIEC\n",
      "\t 01/01/00—01/01/11\n",
      "\t 03/07/11—03/08/11\n",
      "\t 03/23/11\n",
      "\t 01/13/12—01/14/12\n",
      "\t 05/09/12—05/13/12\n",
      "\t 08/01/12—08/02/12\n",
      "\t 02/17/13—02/27/13\n",
      "\t 11/28/14—01/12/15\n",
      "\t 08/19/15\n",
      "\t 12/24/15—12/28/15\n",
      "\t 09/01/16—09/05/16\n",
      "\t 09/16/18—10/02/18\n",
      "\t 07/28/19—08/19/19\n",
      "\t 01/19/20—04/05/20\n",
      "\n",
      "Temperature_Orentano\n",
      "\n",
      "Temperature_Monte_Serra\n",
      "\n",
      "Temperature_Ponte_a_Moriano\n",
      "\n",
      "Temperature_Lucca_Orto_Botanico\n",
      "\n",
      "Volume_POL\n",
      "\t 01/01/00—12/31/04\n",
      "\n",
      "Volume_CC1\n",
      "\t 01/01/00—12/31/04\n",
      "\n",
      "Volume_CC2\n",
      "\t 01/01/00—12/31/04\n",
      "\n",
      "Volume_CSA\n",
      "\t 01/01/00—12/31/04\n",
      "\n",
      "Volume_CSAL\n",
      "\t 01/01/00—12/31/04\n",
      "\n",
      "Hydrometry_Monte_S_Quirico\n",
      "\t 06/21/00—06/26/00\n",
      "\t 08/05/00—12/31/00\n",
      "\t 10/25/07—10/30/07\n",
      "\t 10/17/08—12/31/08\n",
      "\t 08/03/13—08/04/13\n",
      "\t 08/11/13—08/12/13\n",
      "\t 08/15/13\n",
      "\t 08/17/13\n",
      "\t 08/20/13\n",
      "\t 10/01/18\n",
      "\t 01/23/19\n",
      "\n",
      "Hydrometry_Piaggione\n",
      "\t 06/21/00—06/25/00\n",
      "\t 08/05/00—12/31/00\n",
      "\t 01/22/01—01/28/01\n",
      "\t 08/30/03—09/23/03\n",
      "\t 01/01/05—04/19/05\n",
      "\t 07/19/05—09/13/05\n",
      "\t 01/01/07—01/07/07\n",
      "\t 07/11/07—10/06/07\n",
      "\t 10/25/07\n",
      "\t 07/02/08—12/31/10\n",
      "\t 04/21/13\n",
      "\t 04/26/13\n",
      "\t 01/29/14\n",
      "\t 06/25/14\n",
      "\t 01/08/19\n",
      "\t 09/27/19\n",
      "\t 05/05/20\n",
      "\n"
     ]
    }
   ],
   "source": [
    "for c in auser.columns:\n",
    "    print(c)\n",
    "    for d in find_null_dates(auser, c):\n",
    "        print('\\t', d)\n",
    "    print()"
   ]
  },
  {
   "cell_type": "code",
   "execution_count": null,
   "metadata": {},
   "outputs": [],
   "source": [
    "# Rainfall Features ::\n",
    "\n",
    "# \"JUST START AT 2006\"\n",
    "#   Gallicano\n",
    "#   Pontetetto\n",
    "#   Orentano\n",
    "#   Borgo a Mozzano\n",
    "#   Calavorno\n",
    "#   Croce Arcana\n",
    "#   Tereglio Coreglia Antelminelli\n",
    "#   Fabbriche di Vallico\n",
    "\n",
    "# \"LITTLE EXTRA WORK\"\n",
    "#   Monte Serra: some missing days from 2/2012\n",
    "#   Piaggione: all of 2009"
   ]
  },
  {
   "cell_type": "code",
   "execution_count": null,
   "metadata": {},
   "outputs": [],
   "source": [
    "# Volume Features ::\n",
    "\n",
    "# \"JUST START AT 2005\""
   ]
  },
  {
   "cell_type": "code",
   "execution_count": null,
   "metadata": {},
   "outputs": [],
   "source": [
    "# Hydrometry Features ::\n",
    "\n",
    "# Monte S Quirico: Late 00, Late 08\n",
    "# Piaggione: Late 00, 9/03, Early 05, Mid 05, Mid 07, Late 08-2010"
   ]
  },
  {
   "cell_type": "code",
   "execution_count": null,
   "metadata": {},
   "outputs": [],
   "source": [
    "# Depth to Groundwater Features ::\n",
    "\n",
    "# PAG: Nothing until 09, Mid 11, Late 12, Late 13, Mid 14\n",
    "# DIEC: Nothing until 11, Late 14, Late 18, Early 20"
   ]
  },
  {
   "cell_type": "code",
   "execution_count": null,
   "metadata": {},
   "outputs": [],
   "source": [
    "# Depth to Groundwater TARGETS ::\n",
    "\n",
    "# LT2: (06) Early 11, Early 12, Mid 12, Late 14, Early/Mid 16\n",
    "# SAL: (4/07) Mid 09, Late 16\n",
    "# CoS: (7/06) Late 07, Late 10/Early 11, Early 14, Mid 14, Early 15, Late 18"
   ]
  },
  {
   "cell_type": "code",
   "execution_count": 80,
   "metadata": {},
   "outputs": [
    {
     "name": "stdout",
     "output_type": "stream",
     "text": [
      "Date :: 0.0\n",
      "Rainfall_Gallicano :: 0.29277414184586614\n",
      "Rainfall_Pontetetto :: 0.29277414184586614\n",
      "Rainfall_Monte_Serra :: 0.2935755309202618\n",
      "Rainfall_Orentano :: 0.29277414184586614\n",
      "Rainfall_Borgo_a_Mozzano :: 0.29277414184586614\n",
      "Rainfall_Piaggione :: 0.34152531053826635\n",
      "Rainfall_Calavorno :: 0.29277414184586614\n",
      "Rainfall_Croce_Arcana :: 0.29277414184586614\n",
      "Rainfall_Tereglio_Coreglia_Antelminelli :: 0.29277414184586614\n",
      "Rainfall_Fabbriche_di_Vallico :: 0.29277414184586614\n",
      "Depth_to_Groundwater_LT2 :: 0.3586216107920395\n",
      "Depth_to_Groundwater_SAL :: 0.39294777614531856\n",
      "Depth_to_Groundwater_PAG :: 0.4915186322959797\n",
      "Depth_to_Groundwater_CoS :: 0.42366769066381726\n",
      "Depth_to_Groundwater_DIEC :: 0.5632429544543877\n",
      "Temperature_Orentano :: 0.0\n",
      "Temperature_Monte_Serra :: 0.0\n",
      "Temperature_Ponte_a_Moriano :: 0.0\n",
      "Temperature_Lucca_Orto_Botanico :: 0.0\n",
      "Volume_POL :: 0.244022973153466\n",
      "Volume_CC1 :: 0.244022973153466\n",
      "Volume_CC2 :: 0.244022973153466\n",
      "Volume_CSA :: 0.244022973153466\n",
      "Volume_CSAL :: 0.244022973153466\n",
      "Hydrometry_Monte_S_Quirico :: 0.032856952050220385\n",
      "Hydrometry_Piaggione :: 0.18271670896220116\n"
     ]
    }
   ],
   "source": [
    "def pernullcent(s):\n",
    "    return len(s[s.isnull()]) / len(s)\n",
    "\n",
    "def getpernullcent(df):\n",
    "    for c in df.columns:\n",
    "        print(c, '::', pernullcent(df[c]))\n",
    "\n",
    "getpernullcent(auser)"
   ]
  },
  {
   "cell_type": "code",
   "execution_count": 81,
   "metadata": {},
   "outputs": [
    {
     "name": "stdout",
     "output_type": "stream",
     "text": [
      "Date :: 0.0\n",
      "Rainfall_Gallicano :: 0.0\n",
      "Rainfall_Pontetetto :: 0.0\n",
      "Rainfall_Monte_Serra :: 0.0012409513960703205\n",
      "Rainfall_Orentano :: 0.0\n",
      "Rainfall_Borgo_a_Mozzano :: 0.0\n",
      "Rainfall_Piaggione :: 0.07549120992761117\n",
      "Rainfall_Calavorno :: 0.0\n",
      "Rainfall_Croce_Arcana :: 0.0\n",
      "Rainfall_Tereglio_Coreglia_Antelminelli :: 0.0\n",
      "Rainfall_Fabbriche_di_Vallico :: 0.0\n",
      "Depth_to_Groundwater_LT2 :: 0.10196483971044468\n",
      "Depth_to_Groundwater_SAL :: 0.05997931747673216\n",
      "Depth_to_Groundwater_CoS :: 0.1656670113753878\n",
      "Temperature_Orentano :: 0.0\n",
      "Temperature_Monte_Serra :: 0.0\n",
      "Temperature_Ponte_a_Moriano :: 0.0\n",
      "Temperature_Lucca_Orto_Botanico :: 0.0\n",
      "Volume_POL :: 0.0\n",
      "Volume_CC1 :: 0.0\n",
      "Volume_CC2 :: 0.0\n",
      "Volume_CSA :: 0.0\n",
      "Volume_CSAL :: 0.0\n",
      "Hydrometry_Monte_S_Quirico :: 0.018821096173733197\n",
      "Hydrometry_Piaggione :: 0.20868665977249223\n"
     ]
    }
   ],
   "source": [
    "auser = auser[auser['Date'] > datetime(2007, 4, 5)]\n",
    "auser = auser.drop(['Depth_to_Groundwater_DIEC', 'Depth_to_Groundwater_PAG'], axis=1)\n",
    "getpernullcent(auser)"
   ]
  },
  {
   "cell_type": "code",
   "execution_count": 82,
   "metadata": {},
   "outputs": [
    {
     "data": {
      "text/plain": [
       "Date                                         0\n",
       "Rainfall_Gallicano                           0\n",
       "Rainfall_Pontetetto                          0\n",
       "Rainfall_Monte_Serra                         6\n",
       "Rainfall_Orentano                            0\n",
       "Rainfall_Borgo_a_Mozzano                     0\n",
       "Rainfall_Piaggione                         365\n",
       "Rainfall_Calavorno                           0\n",
       "Rainfall_Croce_Arcana                        0\n",
       "Rainfall_Tereglio_Coreglia_Antelminelli      0\n",
       "Rainfall_Fabbriche_di_Vallico                0\n",
       "Depth_to_Groundwater_LT2                   493\n",
       "Depth_to_Groundwater_SAL                   290\n",
       "Depth_to_Groundwater_CoS                   801\n",
       "Temperature_Orentano                         0\n",
       "Temperature_Monte_Serra                      0\n",
       "Temperature_Ponte_a_Moriano                  0\n",
       "Temperature_Lucca_Orto_Botanico              0\n",
       "Volume_POL                                   0\n",
       "Volume_CC1                                   0\n",
       "Volume_CC2                                   0\n",
       "Volume_CSA                                   0\n",
       "Volume_CSAL                                  0\n",
       "Hydrometry_Monte_S_Quirico                  91\n",
       "dtype: int64"
      ]
     },
     "execution_count": 82,
     "metadata": {},
     "output_type": "execute_result"
    }
   ],
   "source": [
    "auser = auser.drop('Hydrometry_Piaggione', axis=1)\n",
    "auser.isnull().sum()"
   ]
  },
  {
   "cell_type": "code",
   "execution_count": 86,
   "metadata": {},
   "outputs": [
    {
     "ename": "TypeError",
     "evalue": "bad operand type for abs(): 'Timestamp'",
     "output_type": "error",
     "traceback": [
      "\u001b[0;31m---------------------------------------------------------------------------\u001b[0m",
      "\u001b[0;31mTypeError\u001b[0m                                 Traceback (most recent call last)",
      "\u001b[0;32m<ipython-input-86-cb7e7ca5a8ae>\u001b[0m in \u001b[0;36m<module>\u001b[0;34m\u001b[0m\n\u001b[1;32m      1\u001b[0m \u001b[0;31m# they said to only use absolute values\u001b[0m\u001b[0;34m\u001b[0m\u001b[0;34m\u001b[0m\u001b[0;34m\u001b[0m\u001b[0m\n\u001b[0;32m----> 2\u001b[0;31m \u001b[0mauser\u001b[0m\u001b[0;34m.\u001b[0m\u001b[0mapplymap\u001b[0m\u001b[0;34m(\u001b[0m\u001b[0mabs\u001b[0m\u001b[0;34m)\u001b[0m\u001b[0;34m\u001b[0m\u001b[0;34m\u001b[0m\u001b[0m\n\u001b[0m",
      "\u001b[0;32m~/.pyenv/versions/3.8.5/lib/python3.8/site-packages/pandas/core/frame.py\u001b[0m in \u001b[0;36mapplymap\u001b[0;34m(self, func)\u001b[0m\n\u001b[1;32m   7603\u001b[0m             \u001b[0;32mreturn\u001b[0m \u001b[0mlib\u001b[0m\u001b[0;34m.\u001b[0m\u001b[0mmap_infer\u001b[0m\u001b[0;34m(\u001b[0m\u001b[0mx\u001b[0m\u001b[0;34m.\u001b[0m\u001b[0mastype\u001b[0m\u001b[0;34m(\u001b[0m\u001b[0mobject\u001b[0m\u001b[0;34m)\u001b[0m\u001b[0;34m.\u001b[0m\u001b[0m_values\u001b[0m\u001b[0;34m,\u001b[0m \u001b[0mfunc\u001b[0m\u001b[0;34m)\u001b[0m\u001b[0;34m\u001b[0m\u001b[0;34m\u001b[0m\u001b[0m\n\u001b[1;32m   7604\u001b[0m \u001b[0;34m\u001b[0m\u001b[0m\n\u001b[0;32m-> 7605\u001b[0;31m         \u001b[0;32mreturn\u001b[0m \u001b[0mself\u001b[0m\u001b[0;34m.\u001b[0m\u001b[0mapply\u001b[0m\u001b[0;34m(\u001b[0m\u001b[0minfer\u001b[0m\u001b[0;34m)\u001b[0m\u001b[0;34m\u001b[0m\u001b[0;34m\u001b[0m\u001b[0m\n\u001b[0m\u001b[1;32m   7606\u001b[0m \u001b[0;34m\u001b[0m\u001b[0m\n\u001b[1;32m   7607\u001b[0m     \u001b[0;31m# ----------------------------------------------------------------------\u001b[0m\u001b[0;34m\u001b[0m\u001b[0;34m\u001b[0m\u001b[0;34m\u001b[0m\u001b[0m\n",
      "\u001b[0;32m~/.pyenv/versions/3.8.5/lib/python3.8/site-packages/pandas/core/frame.py\u001b[0m in \u001b[0;36mapply\u001b[0;34m(self, func, axis, raw, result_type, args, **kwds)\u001b[0m\n\u001b[1;32m   7546\u001b[0m             \u001b[0mkwds\u001b[0m\u001b[0;34m=\u001b[0m\u001b[0mkwds\u001b[0m\u001b[0;34m,\u001b[0m\u001b[0;34m\u001b[0m\u001b[0;34m\u001b[0m\u001b[0m\n\u001b[1;32m   7547\u001b[0m         )\n\u001b[0;32m-> 7548\u001b[0;31m         \u001b[0;32mreturn\u001b[0m \u001b[0mop\u001b[0m\u001b[0;34m.\u001b[0m\u001b[0mget_result\u001b[0m\u001b[0;34m(\u001b[0m\u001b[0;34m)\u001b[0m\u001b[0;34m\u001b[0m\u001b[0;34m\u001b[0m\u001b[0m\n\u001b[0m\u001b[1;32m   7549\u001b[0m \u001b[0;34m\u001b[0m\u001b[0m\n\u001b[1;32m   7550\u001b[0m     \u001b[0;32mdef\u001b[0m \u001b[0mapplymap\u001b[0m\u001b[0;34m(\u001b[0m\u001b[0mself\u001b[0m\u001b[0;34m,\u001b[0m \u001b[0mfunc\u001b[0m\u001b[0;34m)\u001b[0m \u001b[0;34m->\u001b[0m \u001b[0;34m\"DataFrame\"\u001b[0m\u001b[0;34m:\u001b[0m\u001b[0;34m\u001b[0m\u001b[0;34m\u001b[0m\u001b[0m\n",
      "\u001b[0;32m~/.pyenv/versions/3.8.5/lib/python3.8/site-packages/pandas/core/apply.py\u001b[0m in \u001b[0;36mget_result\u001b[0;34m(self)\u001b[0m\n\u001b[1;32m    178\u001b[0m             \u001b[0;32mreturn\u001b[0m \u001b[0mself\u001b[0m\u001b[0;34m.\u001b[0m\u001b[0mapply_raw\u001b[0m\u001b[0;34m(\u001b[0m\u001b[0;34m)\u001b[0m\u001b[0;34m\u001b[0m\u001b[0;34m\u001b[0m\u001b[0m\n\u001b[1;32m    179\u001b[0m \u001b[0;34m\u001b[0m\u001b[0m\n\u001b[0;32m--> 180\u001b[0;31m         \u001b[0;32mreturn\u001b[0m \u001b[0mself\u001b[0m\u001b[0;34m.\u001b[0m\u001b[0mapply_standard\u001b[0m\u001b[0;34m(\u001b[0m\u001b[0;34m)\u001b[0m\u001b[0;34m\u001b[0m\u001b[0;34m\u001b[0m\u001b[0m\n\u001b[0m\u001b[1;32m    181\u001b[0m \u001b[0;34m\u001b[0m\u001b[0m\n\u001b[1;32m    182\u001b[0m     \u001b[0;32mdef\u001b[0m \u001b[0mapply_empty_result\u001b[0m\u001b[0;34m(\u001b[0m\u001b[0mself\u001b[0m\u001b[0;34m)\u001b[0m\u001b[0;34m:\u001b[0m\u001b[0;34m\u001b[0m\u001b[0;34m\u001b[0m\u001b[0m\n",
      "\u001b[0;32m~/.pyenv/versions/3.8.5/lib/python3.8/site-packages/pandas/core/apply.py\u001b[0m in \u001b[0;36mapply_standard\u001b[0;34m(self)\u001b[0m\n\u001b[1;32m    269\u001b[0m \u001b[0;34m\u001b[0m\u001b[0m\n\u001b[1;32m    270\u001b[0m     \u001b[0;32mdef\u001b[0m \u001b[0mapply_standard\u001b[0m\u001b[0;34m(\u001b[0m\u001b[0mself\u001b[0m\u001b[0;34m)\u001b[0m\u001b[0;34m:\u001b[0m\u001b[0;34m\u001b[0m\u001b[0;34m\u001b[0m\u001b[0m\n\u001b[0;32m--> 271\u001b[0;31m         \u001b[0mresults\u001b[0m\u001b[0;34m,\u001b[0m \u001b[0mres_index\u001b[0m \u001b[0;34m=\u001b[0m \u001b[0mself\u001b[0m\u001b[0;34m.\u001b[0m\u001b[0mapply_series_generator\u001b[0m\u001b[0;34m(\u001b[0m\u001b[0;34m)\u001b[0m\u001b[0;34m\u001b[0m\u001b[0;34m\u001b[0m\u001b[0m\n\u001b[0m\u001b[1;32m    272\u001b[0m \u001b[0;34m\u001b[0m\u001b[0m\n\u001b[1;32m    273\u001b[0m         \u001b[0;31m# wrap results\u001b[0m\u001b[0;34m\u001b[0m\u001b[0;34m\u001b[0m\u001b[0;34m\u001b[0m\u001b[0m\n",
      "\u001b[0;32m~/.pyenv/versions/3.8.5/lib/python3.8/site-packages/pandas/core/apply.py\u001b[0m in \u001b[0;36mapply_series_generator\u001b[0;34m(self)\u001b[0m\n\u001b[1;32m    298\u001b[0m                 \u001b[0;32mfor\u001b[0m \u001b[0mi\u001b[0m\u001b[0;34m,\u001b[0m \u001b[0mv\u001b[0m \u001b[0;32min\u001b[0m \u001b[0menumerate\u001b[0m\u001b[0;34m(\u001b[0m\u001b[0mseries_gen\u001b[0m\u001b[0;34m)\u001b[0m\u001b[0;34m:\u001b[0m\u001b[0;34m\u001b[0m\u001b[0;34m\u001b[0m\u001b[0m\n\u001b[1;32m    299\u001b[0m                     \u001b[0;31m# ignore SettingWithCopy here in case the user mutates\u001b[0m\u001b[0;34m\u001b[0m\u001b[0;34m\u001b[0m\u001b[0;34m\u001b[0m\u001b[0m\n\u001b[0;32m--> 300\u001b[0;31m                     \u001b[0mresults\u001b[0m\u001b[0;34m[\u001b[0m\u001b[0mi\u001b[0m\u001b[0;34m]\u001b[0m \u001b[0;34m=\u001b[0m \u001b[0mself\u001b[0m\u001b[0;34m.\u001b[0m\u001b[0mf\u001b[0m\u001b[0;34m(\u001b[0m\u001b[0mv\u001b[0m\u001b[0;34m)\u001b[0m\u001b[0;34m\u001b[0m\u001b[0;34m\u001b[0m\u001b[0m\n\u001b[0m\u001b[1;32m    301\u001b[0m                     \u001b[0;32mif\u001b[0m \u001b[0misinstance\u001b[0m\u001b[0;34m(\u001b[0m\u001b[0mresults\u001b[0m\u001b[0;34m[\u001b[0m\u001b[0mi\u001b[0m\u001b[0;34m]\u001b[0m\u001b[0;34m,\u001b[0m \u001b[0mABCSeries\u001b[0m\u001b[0;34m)\u001b[0m\u001b[0;34m:\u001b[0m\u001b[0;34m\u001b[0m\u001b[0;34m\u001b[0m\u001b[0m\n\u001b[1;32m    302\u001b[0m                         \u001b[0;31m# If we have a view on v, we need to make a copy because\u001b[0m\u001b[0;34m\u001b[0m\u001b[0;34m\u001b[0m\u001b[0;34m\u001b[0m\u001b[0m\n",
      "\u001b[0;32m~/.pyenv/versions/3.8.5/lib/python3.8/site-packages/pandas/core/frame.py\u001b[0m in \u001b[0;36minfer\u001b[0;34m(x)\u001b[0m\n\u001b[1;32m   7601\u001b[0m             \u001b[0;32mif\u001b[0m \u001b[0mx\u001b[0m\u001b[0;34m.\u001b[0m\u001b[0mempty\u001b[0m\u001b[0;34m:\u001b[0m\u001b[0;34m\u001b[0m\u001b[0;34m\u001b[0m\u001b[0m\n\u001b[1;32m   7602\u001b[0m                 \u001b[0;32mreturn\u001b[0m \u001b[0mlib\u001b[0m\u001b[0;34m.\u001b[0m\u001b[0mmap_infer\u001b[0m\u001b[0;34m(\u001b[0m\u001b[0mx\u001b[0m\u001b[0;34m,\u001b[0m \u001b[0mfunc\u001b[0m\u001b[0;34m)\u001b[0m\u001b[0;34m\u001b[0m\u001b[0;34m\u001b[0m\u001b[0m\n\u001b[0;32m-> 7603\u001b[0;31m             \u001b[0;32mreturn\u001b[0m \u001b[0mlib\u001b[0m\u001b[0;34m.\u001b[0m\u001b[0mmap_infer\u001b[0m\u001b[0;34m(\u001b[0m\u001b[0mx\u001b[0m\u001b[0;34m.\u001b[0m\u001b[0mastype\u001b[0m\u001b[0;34m(\u001b[0m\u001b[0mobject\u001b[0m\u001b[0;34m)\u001b[0m\u001b[0;34m.\u001b[0m\u001b[0m_values\u001b[0m\u001b[0;34m,\u001b[0m \u001b[0mfunc\u001b[0m\u001b[0;34m)\u001b[0m\u001b[0;34m\u001b[0m\u001b[0;34m\u001b[0m\u001b[0m\n\u001b[0m\u001b[1;32m   7604\u001b[0m \u001b[0;34m\u001b[0m\u001b[0m\n\u001b[1;32m   7605\u001b[0m         \u001b[0;32mreturn\u001b[0m \u001b[0mself\u001b[0m\u001b[0;34m.\u001b[0m\u001b[0mapply\u001b[0m\u001b[0;34m(\u001b[0m\u001b[0minfer\u001b[0m\u001b[0;34m)\u001b[0m\u001b[0;34m\u001b[0m\u001b[0;34m\u001b[0m\u001b[0m\n",
      "\u001b[0;32mpandas/_libs/lib.pyx\u001b[0m in \u001b[0;36mpandas._libs.lib.map_infer\u001b[0;34m()\u001b[0m\n",
      "\u001b[0;31mTypeError\u001b[0m: bad operand type for abs(): 'Timestamp'"
     ]
    }
   ],
   "source": [
    "# they said to only use absolute values"
   ]
  },
  {
   "cell_type": "code",
   "execution_count": 87,
   "metadata": {},
   "outputs": [
    {
     "data": {
      "image/png": "[encoded data removed]",
      "text/plain": [
       "<Figure size 1440x1080 with 3 Axes>"
      ]
     },
     "metadata": {
      "needs_background": "light"
     },
     "output_type": "display_data"
    }
   ],
   "source": [
    "import matplotlib.pyplot as plt\n",
    "fig, axs = plt.subplots(3, 1, figsize=(20,15))\n",
    "axs[0].plot(auser['Depth_to_Groundwater_LT2'].abs())\n",
    "axs[0].set_title('D2G LT2')\n",
    "axs[1].plot(auser['Depth_to_Groundwater_SAL'].abs())\n",
    "axs[1].set_title('D2G SAL')\n",
    "axs[2].plot(auser['Depth_to_Groundwater_CoS'].abs())\n",
    "axs[2].set_title('D2G CoS')\n",
    "plt.show()"
   ]
  },
  {
   "cell_type": "code",
   "execution_count": 91,
   "metadata": {},
   "outputs": [
    {
     "data": {
      "text/plain": [
       "4"
      ]
     },
     "execution_count": 91,
     "metadata": {},
     "output_type": "execute_result"
    }
   ],
   "source": [
    "# some of these columns clearly have 0 for null\n",
    "#(auser['Depth_to_Groundwater_LT2'] == 0).sum() // 2\n",
    "#(auser['Depth_to_Groundwater_SAL'] == 0).sum()  // 10\n",
    "#(auser['Depth_to_Groundwater_CoS'] == 0).sum()  // 4"
   ]
  },
  {
   "cell_type": "code",
   "execution_count": 92,
   "metadata": {},
   "outputs": [],
   "source": [
    "auser['Depth_to_Groundwater_LT2'] = auser['Depth_to_Groundwater_LT2'].replace(0, float('nan'))\n",
    "auser['Depth_to_Groundwater_SAL'] = auser['Depth_to_Groundwater_SAL'].replace(0, float('nan'))\n",
    "auser['Depth_to_Groundwater_CoS'] = auser['Depth_to_Groundwater_CoS'].replace(0, float('nan'))"
   ]
  },
  {
   "cell_type": "code",
   "execution_count": 93,
   "metadata": {},
   "outputs": [
    {
     "data": {
      "image/png": "[encoded data removed]",
      "text/plain": [
       "<Figure size 1440x1080 with 3 Axes>"
      ]
     },
     "metadata": {
      "needs_background": "light"
     },
     "output_type": "display_data"
    }
   ],
   "source": [
    "fig, axs = plt.subplots(3, 1, figsize=(20,15), sharex=True, sharey=True)\n",
    "axs[0].plot(auser['Depth_to_Groundwater_LT2'].abs())\n",
    "axs[0].set_title('D2G LT2')\n",
    "axs[1].plot(auser['Depth_to_Groundwater_SAL'].abs())\n",
    "axs[1].set_title('D2G SAL')\n",
    "axs[2].plot(auser['Depth_to_Groundwater_CoS'].abs())\n",
    "axs[2].set_title('D2G CoS')\n",
    "plt.show()"
   ]
  }
 ],
 "metadata": {
  "kernelspec": {
   "display_name": "Python 3",
   "language": "python",
   "name": "python3"
  },
  "language_info": {
   "codemirror_mode": {
    "name": "ipython",
    "version": 3
   },
   "file_extension": ".py",
   "mimetype": "text/x-python",
   "name": "python",
   "nbconvert_exporter": "python",
   "pygments_lexer": "ipython3",
   "version": "3.8.5"
  }
 },
 "nbformat": 4,
 "nbformat_minor": 4
}
