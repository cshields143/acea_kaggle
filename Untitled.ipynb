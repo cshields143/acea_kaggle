{
 "cells": [
  {
   "cell_type": "code",
   "execution_count": 49,
   "metadata": {},
   "outputs": [
    {
     "data": {
      "text/html": [
       "<div>\n",
       "<style scoped>\n",
       "    .dataframe tbody tr th:only-of-type {\n",
       "        vertical-align: middle;\n",
       "    }\n",
       "\n",
       "    .dataframe tbody tr th {\n",
       "        vertical-align: top;\n",
       "    }\n",
       "\n",
       "    .dataframe thead th {\n",
       "        text-align: right;\n",
       "    }\n",
       "</style>\n",
       "<table border=\"1\" class=\"dataframe\">\n",
       "  <thead>\n",
       "    <tr style=\"text-align: right;\">\n",
       "      <th></th>\n",
       "      <th>Rainfall_S_Piero</th>\n",
       "      <th>Rainfall_Mangona</th>\n",
       "      <th>Rainfall_S_Agata</th>\n",
       "      <th>Rainfall_Cavallina</th>\n",
       "      <th>Rainfall_Le_Croci</th>\n",
       "      <th>Temperature_Le_Croci</th>\n",
       "      <th>Lake_Level</th>\n",
       "      <th>Flow_Rate</th>\n",
       "    </tr>\n",
       "  </thead>\n",
       "  <tbody>\n",
       "    <tr>\n",
       "      <th>2004-01-02</th>\n",
       "      <td>0.0</td>\n",
       "      <td>0.0</td>\n",
       "      <td>0.0</td>\n",
       "      <td>0.0</td>\n",
       "      <td>0.0</td>\n",
       "      <td>6.50</td>\n",
       "      <td>251.21</td>\n",
       "      <td>0.5</td>\n",
       "    </tr>\n",
       "    <tr>\n",
       "      <th>2004-01-03</th>\n",
       "      <td>0.0</td>\n",
       "      <td>0.0</td>\n",
       "      <td>0.0</td>\n",
       "      <td>0.0</td>\n",
       "      <td>0.0</td>\n",
       "      <td>4.45</td>\n",
       "      <td>251.28</td>\n",
       "      <td>0.5</td>\n",
       "    </tr>\n",
       "    <tr>\n",
       "      <th>2004-01-04</th>\n",
       "      <td>0.0</td>\n",
       "      <td>0.0</td>\n",
       "      <td>0.0</td>\n",
       "      <td>0.0</td>\n",
       "      <td>0.0</td>\n",
       "      <td>2.00</td>\n",
       "      <td>251.35</td>\n",
       "      <td>0.5</td>\n",
       "    </tr>\n",
       "    <tr>\n",
       "      <th>2004-01-05</th>\n",
       "      <td>0.2</td>\n",
       "      <td>0.0</td>\n",
       "      <td>0.0</td>\n",
       "      <td>0.0</td>\n",
       "      <td>0.0</td>\n",
       "      <td>0.90</td>\n",
       "      <td>251.37</td>\n",
       "      <td>0.5</td>\n",
       "    </tr>\n",
       "    <tr>\n",
       "      <th>2004-01-06</th>\n",
       "      <td>0.0</td>\n",
       "      <td>0.0</td>\n",
       "      <td>0.0</td>\n",
       "      <td>0.0</td>\n",
       "      <td>0.0</td>\n",
       "      <td>2.25</td>\n",
       "      <td>251.42</td>\n",
       "      <td>0.5</td>\n",
       "    </tr>\n",
       "  </tbody>\n",
       "</table>\n",
       "</div>"
      ],
      "text/plain": [
       "            Rainfall_S_Piero  Rainfall_Mangona  Rainfall_S_Agata  \\\n",
       "2004-01-02               0.0               0.0               0.0   \n",
       "2004-01-03               0.0               0.0               0.0   \n",
       "2004-01-04               0.0               0.0               0.0   \n",
       "2004-01-05               0.2               0.0               0.0   \n",
       "2004-01-06               0.0               0.0               0.0   \n",
       "\n",
       "            Rainfall_Cavallina  Rainfall_Le_Croci  Temperature_Le_Croci  \\\n",
       "2004-01-02                 0.0                0.0                  6.50   \n",
       "2004-01-03                 0.0                0.0                  4.45   \n",
       "2004-01-04                 0.0                0.0                  2.00   \n",
       "2004-01-05                 0.0                0.0                  0.90   \n",
       "2004-01-06                 0.0                0.0                  2.25   \n",
       "\n",
       "            Lake_Level  Flow_Rate  \n",
       "2004-01-02      251.21        0.5  \n",
       "2004-01-03      251.28        0.5  \n",
       "2004-01-04      251.35        0.5  \n",
       "2004-01-05      251.37        0.5  \n",
       "2004-01-06      251.42        0.5  "
      ]
     },
     "execution_count": 49,
     "metadata": {},
     "output_type": "execute_result"
    }
   ],
   "source": [
    "import pandas as pd\n",
    "df = pd.read_csv('data/imputed/bilancino.csv', index_col=0)\n",
    "df.index = pd.to_datetime(df.index)\n",
    "df.index.freq = 'D'\n",
    "df0 = df.copy()\n",
    "df.head()"
   ]
  },
  {
   "cell_type": "code",
   "execution_count": 50,
   "metadata": {},
   "outputs": [
    {
     "data": {
      "text/html": [
       "<div>\n",
       "<style scoped>\n",
       "    .dataframe tbody tr th:only-of-type {\n",
       "        vertical-align: middle;\n",
       "    }\n",
       "\n",
       "    .dataframe tbody tr th {\n",
       "        vertical-align: top;\n",
       "    }\n",
       "\n",
       "    .dataframe thead th {\n",
       "        text-align: right;\n",
       "    }\n",
       "</style>\n",
       "<table border=\"1\" class=\"dataframe\">\n",
       "  <thead>\n",
       "    <tr style=\"text-align: right;\">\n",
       "      <th></th>\n",
       "      <th>Rainfall_S_Piero</th>\n",
       "      <th>Rainfall_Mangona</th>\n",
       "      <th>Rainfall_S_Agata</th>\n",
       "      <th>Rainfall_Cavallina</th>\n",
       "      <th>Rainfall_Le_Croci</th>\n",
       "      <th>Temperature_Le_Croci</th>\n",
       "      <th>Lake_Level</th>\n",
       "      <th>Flow_Rate</th>\n",
       "    </tr>\n",
       "  </thead>\n",
       "  <tbody>\n",
       "    <tr>\n",
       "      <th>2004-01-02</th>\n",
       "      <td>-0.371678</td>\n",
       "      <td>-0.375289</td>\n",
       "      <td>-0.372624</td>\n",
       "      <td>-0.349434</td>\n",
       "      <td>-0.390079</td>\n",
       "      <td>-1.156506</td>\n",
       "      <td>0.758778</td>\n",
       "      <td>-0.551512</td>\n",
       "    </tr>\n",
       "    <tr>\n",
       "      <th>2004-01-03</th>\n",
       "      <td>-0.371678</td>\n",
       "      <td>-0.375289</td>\n",
       "      <td>-0.372624</td>\n",
       "      <td>-0.349434</td>\n",
       "      <td>-0.390079</td>\n",
       "      <td>-1.451748</td>\n",
       "      <td>0.790841</td>\n",
       "      <td>-0.551512</td>\n",
       "    </tr>\n",
       "    <tr>\n",
       "      <th>2004-01-04</th>\n",
       "      <td>-0.371678</td>\n",
       "      <td>-0.375289</td>\n",
       "      <td>-0.372624</td>\n",
       "      <td>-0.349434</td>\n",
       "      <td>-0.390079</td>\n",
       "      <td>-1.804598</td>\n",
       "      <td>0.822905</td>\n",
       "      <td>-0.551512</td>\n",
       "    </tr>\n",
       "    <tr>\n",
       "      <th>2004-01-05</th>\n",
       "      <td>-0.341603</td>\n",
       "      <td>-0.375289</td>\n",
       "      <td>-0.372624</td>\n",
       "      <td>-0.349434</td>\n",
       "      <td>-0.390079</td>\n",
       "      <td>-1.963021</td>\n",
       "      <td>0.832066</td>\n",
       "      <td>-0.551512</td>\n",
       "    </tr>\n",
       "    <tr>\n",
       "      <th>2004-01-06</th>\n",
       "      <td>-0.371678</td>\n",
       "      <td>-0.375289</td>\n",
       "      <td>-0.372624</td>\n",
       "      <td>-0.349434</td>\n",
       "      <td>-0.390079</td>\n",
       "      <td>-1.768593</td>\n",
       "      <td>0.854969</td>\n",
       "      <td>-0.551512</td>\n",
       "    </tr>\n",
       "  </tbody>\n",
       "</table>\n",
       "</div>"
      ],
      "text/plain": [
       "            Rainfall_S_Piero  Rainfall_Mangona  Rainfall_S_Agata  \\\n",
       "2004-01-02         -0.371678         -0.375289         -0.372624   \n",
       "2004-01-03         -0.371678         -0.375289         -0.372624   \n",
       "2004-01-04         -0.371678         -0.375289         -0.372624   \n",
       "2004-01-05         -0.341603         -0.375289         -0.372624   \n",
       "2004-01-06         -0.371678         -0.375289         -0.372624   \n",
       "\n",
       "            Rainfall_Cavallina  Rainfall_Le_Croci  Temperature_Le_Croci  \\\n",
       "2004-01-02           -0.349434          -0.390079             -1.156506   \n",
       "2004-01-03           -0.349434          -0.390079             -1.451748   \n",
       "2004-01-04           -0.349434          -0.390079             -1.804598   \n",
       "2004-01-05           -0.349434          -0.390079             -1.963021   \n",
       "2004-01-06           -0.349434          -0.390079             -1.768593   \n",
       "\n",
       "            Lake_Level  Flow_Rate  \n",
       "2004-01-02    0.758778  -0.551512  \n",
       "2004-01-03    0.790841  -0.551512  \n",
       "2004-01-04    0.822905  -0.551512  \n",
       "2004-01-05    0.832066  -0.551512  \n",
       "2004-01-06    0.854969  -0.551512  "
      ]
     },
     "execution_count": 50,
     "metadata": {},
     "output_type": "execute_result"
    }
   ],
   "source": [
    "from mods.data import WaterbodyScaler\n",
    "ws = WaterbodyScaler(df)\n",
    "dfz = ws.scale(df)\n",
    "dfz.head()"
   ]
  },
  {
   "cell_type": "code",
   "execution_count": 51,
   "metadata": {},
   "outputs": [],
   "source": [
    "df_piero = dfz[['Rainfall_S_Piero', 'Lake_Level', 'Flow_Rate']]"
   ]
  },
  {
   "cell_type": "code",
   "execution_count": 6,
   "metadata": {},
   "outputs": [],
   "source": [
    "import matplotlib.pyplot as plt"
   ]
  },
  {
   "cell_type": "code",
   "execution_count": 14,
   "metadata": {},
   "outputs": [],
   "source": [
    "from scipy.stats import linregress"
   ]
  },
  {
   "cell_type": "code",
   "execution_count": 18,
   "metadata": {},
   "outputs": [],
   "source": [
    "def get_r2(x, y):\n",
    "    return linregress(x, y)[2] ** 2"
   ]
  },
  {
   "cell_type": "code",
   "execution_count": 19,
   "metadata": {},
   "outputs": [],
   "source": [
    "def only_rainy(df, col):\n",
    "    return df[df[col] > df[col].min()]"
   ]
  },
  {
   "cell_type": "code",
   "execution_count": 23,
   "metadata": {},
   "outputs": [],
   "source": [
    "def lag_n(df, col, n):\n",
    "    df2 = df.copy()\n",
    "    df2[col] = df[col].shift(n)\n",
    "    return df2.dropna()"
   ]
  },
  {
   "cell_type": "code",
   "execution_count": 52,
   "metadata": {},
   "outputs": [],
   "source": [
    "ll_corr = []\n",
    "fr_corr = []\n",
    "for i in range(31):\n",
    "    dftmp = lag_n(df_piero, 'Rainfall_S_Piero', i)\n",
    "    dftmp = only_rainy(dftmp, 'Rainfall_S_Piero')\n",
    "    ll_r2 = get_r2(dftmp['Rainfall_S_Piero'], dftmp['Lake_Level'])\n",
    "    fr_r2 = get_r2(dftmp['Rainfall_S_Piero'], dftmp['Flow_Rate'])\n",
    "    ll_corr.append(ll_r2)\n",
    "    fr_corr.append(fr_r2)"
   ]
  },
  {
   "cell_type": "code",
   "execution_count": 59,
   "metadata": {},
   "outputs": [
    {
     "data": {
      "image/png": "[encoded data removed]",
      "text/plain": [
       "<Figure size 432x288 with 1 Axes>"
      ]
     },
     "metadata": {
      "needs_background": "light"
     },
     "output_type": "display_data"
    }
   ],
   "source": [
    "plt.plot(ll_corr, label='Lake level')\n",
    "plt.plot(fr_corr, label='Flow rate')\n",
    "plt.xlabel('Number of days rainfall data was lagged\\n(data excludes days when no rain fell)')\n",
    "plt.ylabel('Correlation (r²) of rainfall with target variable')\n",
    "plt.suptitle('Rainfall at S. Piero has no impact on Lake Bilancino', fontweight='bold')\n",
    "plt.title('Correlation between rainfall & targets never reaches a significant threshold')\n",
    "plt.legend()\n",
    "plt.show()"
   ]
  },
  {
   "cell_type": "code",
   "execution_count": 61,
   "metadata": {},
   "outputs": [],
   "source": [
    "ll_corr = []\n",
    "fr_corr = []\n",
    "df_cavallina = df0[['Rainfall_Cavallina', 'Lake_Level', 'Flow_Rate']]\n",
    "for i in range(31):\n",
    "    dftmp = lag_n(df_cavallina, 'Rainfall_Cavallina', i)\n",
    "    dftmp = only_rainy(dftmp, 'Rainfall_Cavallina')\n",
    "    ll_r2 = get_r2(dftmp['Rainfall_Cavallina'], dftmp['Lake_Level'])\n",
    "    fr_r2 = get_r2(dftmp['Rainfall_Cavallina'], dftmp['Flow_Rate'])\n",
    "    ll_corr.append(ll_r2)\n",
    "    fr_corr.append(fr_r2)"
   ]
  },
  {
   "cell_type": "code",
   "execution_count": 62,
   "metadata": {},
   "outputs": [
    {
     "data": {
      "image/png": "[encoded data removed]",
      "text/plain": [
       "<Figure size 432x288 with 1 Axes>"
      ]
     },
     "metadata": {
      "needs_background": "light"
     },
     "output_type": "display_data"
    }
   ],
   "source": [
    "plt.plot(ll_corr, label='Lake level')\n",
    "plt.plot(fr_corr, label='Flow rate')\n",
    "plt.xlabel('Number of days rainfall data was lagged\\n(data excludes days when no rain fell)')\n",
    "plt.ylabel('Correlation (r²) of rainfall with target variable')\n",
    "# plt.suptitle('Rainfall at S. Piero has no impact on Lake Bilancino', fontweight='bold')\n",
    "# plt.title('Correlation between rainfall & targets never reaches a significant threshold')\n",
    "plt.legend()\n",
    "plt.show()"
   ]
  },
  {
   "cell_type": "code",
   "execution_count": 71,
   "metadata": {},
   "outputs": [],
   "source": [
    "df0['Year'] = df0.index.year\n",
    "df0['DayOfYear'] = df0.index.dayofyear"
   ]
  },
  {
   "cell_type": "code",
   "execution_count": 76,
   "metadata": {},
   "outputs": [
    {
     "data": {
      "image/png": "[encoded data removed]",
      "text/plain": [
       "<Figure size 1440x360 with 1 Axes>"
      ]
     },
     "metadata": {
      "needs_background": "light"
     },
     "output_type": "display_data"
    }
   ],
   "source": [
    "plt.figure(figsize=(20,5))\n",
    "for yr in df0['Year'].unique():\n",
    "    dftmp = df0[df0['Year'] == yr]\n",
    "    plt.bar(dftmp['DayOfYear'], dftmp['Rainfall_Mangona'], color='C0', alpha=0.25)\n",
    "plt.show()"
   ]
  },
  {
   "cell_type": "code",
   "execution_count": 77,
   "metadata": {},
   "outputs": [
    {
     "data": {
      "text/html": [
       "<div>\n",
       "<style scoped>\n",
       "    .dataframe tbody tr th:only-of-type {\n",
       "        vertical-align: middle;\n",
       "    }\n",
       "\n",
       "    .dataframe tbody tr th {\n",
       "        vertical-align: top;\n",
       "    }\n",
       "\n",
       "    .dataframe thead th {\n",
       "        text-align: right;\n",
       "    }\n",
       "</style>\n",
       "<table border=\"1\" class=\"dataframe\">\n",
       "  <thead>\n",
       "    <tr style=\"text-align: right;\">\n",
       "      <th></th>\n",
       "      <th>Station</th>\n",
       "      <th>GeologicalUnit</th>\n",
       "      <th>ItalianDescription</th>\n",
       "      <th>EnglishDescription</th>\n",
       "      <th>Period</th>\n",
       "    </tr>\n",
       "  </thead>\n",
       "  <tbody>\n",
       "    <tr>\n",
       "      <th>0</th>\n",
       "      <td>Tereglio</td>\n",
       "      <td>MAC</td>\n",
       "      <td>Arenarie quarzoso-feldspatico-micacee gradate,...</td>\n",
       "      <td>Graded quartz-feldspar-micaceous sandstones, i...</td>\n",
       "      <td>UPPER OLIGOCENE - LOWER MIOCENE</td>\n",
       "    </tr>\n",
       "    <tr>\n",
       "      <th>1</th>\n",
       "      <td>Vernio</td>\n",
       "      <td>TCG1</td>\n",
       "      <td>Torbiditi arenaceo pelitiche e silitico peliti...</td>\n",
       "      <td>Pelitic arenaceous and pelitic silitic turbidi...</td>\n",
       "      <td>AQUITANIANO p.p.</td>\n",
       "    </tr>\n",
       "    <tr>\n",
       "      <th>2</th>\n",
       "      <td>Orentano</td>\n",
       "      <td>VILa</td>\n",
       "      <td>Conglomerati e ciottolami poligenici</td>\n",
       "      <td>Polygenic conglomerates and pebbles</td>\n",
       "      <td>RUSCINIANO-VILLAFRANCHIANO</td>\n",
       "    </tr>\n",
       "    <tr>\n",
       "      <th>3</th>\n",
       "      <td>Simignano</td>\n",
       "      <td>CCA</td>\n",
       "      <td>Calcari dolomitici e dolomie grigie brecciati ...</td>\n",
       "      <td>Dolomite limestones and gray dolomites breccia...</td>\n",
       "      <td>UPPER TRIASSIC</td>\n",
       "    </tr>\n",
       "    <tr>\n",
       "      <th>4</th>\n",
       "      <td>Abbadia S. S. - Laghetto Verde</td>\n",
       "      <td>QRT</td>\n",
       "      <td>Colate laviche clastogeniche e colate laviche ...</td>\n",
       "      <td>Clastogenic lava flows and block lava flows of...</td>\n",
       "      <td>PLEISTOCENE</td>\n",
       "    </tr>\n",
       "  </tbody>\n",
       "</table>\n",
       "</div>"
      ],
      "text/plain": [
       "                          Station GeologicalUnit  \\\n",
       "0                        Tereglio            MAC   \n",
       "1                          Vernio           TCG1   \n",
       "2                        Orentano           VILa   \n",
       "3                       Simignano            CCA   \n",
       "4  Abbadia S. S. - Laghetto Verde            QRT   \n",
       "\n",
       "                                  ItalianDescription  \\\n",
       "0  Arenarie quarzoso-feldspatico-micacee gradate,...   \n",
       "1  Torbiditi arenaceo pelitiche e silitico peliti...   \n",
       "2               Conglomerati e ciottolami poligenici   \n",
       "3  Calcari dolomitici e dolomie grigie brecciati ...   \n",
       "4  Colate laviche clastogeniche e colate laviche ...   \n",
       "\n",
       "                                  EnglishDescription  \\\n",
       "0  Graded quartz-feldspar-micaceous sandstones, i...   \n",
       "1  Pelitic arenaceous and pelitic silitic turbidi...   \n",
       "2                Polygenic conglomerates and pebbles   \n",
       "3  Dolomite limestones and gray dolomites breccia...   \n",
       "4  Clastogenic lava flows and block lava flows of...   \n",
       "\n",
       "                            Period  \n",
       "0  UPPER OLIGOCENE - LOWER MIOCENE  \n",
       "1                 AQUITANIANO p.p.  \n",
       "2       RUSCINIANO-VILLAFRANCHIANO  \n",
       "3                   UPPER TRIASSIC  \n",
       "4                      PLEISTOCENE  "
      ]
     },
     "execution_count": 77,
     "metadata": {},
     "output_type": "execute_result"
    }
   ],
   "source": [
    "dfg = pd.read_csv('data/geo/geology_of_geologies.txt')\n",
    "dfg.head()"
   ]
  },
  {
   "cell_type": "code",
   "execution_count": 78,
   "metadata": {},
   "outputs": [
    {
     "data": {
      "text/html": [
       "<div>\n",
       "<style scoped>\n",
       "    .dataframe tbody tr th:only-of-type {\n",
       "        vertical-align: middle;\n",
       "    }\n",
       "\n",
       "    .dataframe tbody tr th {\n",
       "        vertical-align: top;\n",
       "    }\n",
       "\n",
       "    .dataframe thead th {\n",
       "        text-align: right;\n",
       "    }\n",
       "</style>\n",
       "<table border=\"1\" class=\"dataframe\">\n",
       "  <thead>\n",
       "    <tr style=\"text-align: right;\">\n",
       "      <th></th>\n",
       "      <th>Station</th>\n",
       "      <th>GeologicalUnit</th>\n",
       "      <th>ItalianDescription</th>\n",
       "      <th>EnglishDescription</th>\n",
       "      <th>Period</th>\n",
       "    </tr>\n",
       "  </thead>\n",
       "  <tbody>\n",
       "    <tr>\n",
       "      <th>18</th>\n",
       "      <td>Mangona</td>\n",
       "      <td>AQR1</td>\n",
       "      <td>Membro arenaceo-pelitico</td>\n",
       "      <td>Arenaceous-pelitic member</td>\n",
       "      <td>CHATTIANO - BURDIGALIANO</td>\n",
       "    </tr>\n",
       "  </tbody>\n",
       "</table>\n",
       "</div>"
      ],
      "text/plain": [
       "    Station GeologicalUnit        ItalianDescription  \\\n",
       "18  Mangona           AQR1  Membro arenaceo-pelitico   \n",
       "\n",
       "           EnglishDescription                    Period  \n",
       "18  Arenaceous-pelitic member  CHATTIANO - BURDIGALIANO  "
      ]
     },
     "execution_count": 78,
     "metadata": {},
     "output_type": "execute_result"
    }
   ],
   "source": [
    "dfg[dfg['Station'] == 'Mangona']"
   ]
  },
  {
   "cell_type": "code",
   "execution_count": null,
   "metadata": {},
   "outputs": [],
   "source": []
  }
 ],
 "metadata": {
  "kernelspec": {
   "display_name": "Python 3",
   "language": "python",
   "name": "python3"
  },
  "language_info": {
   "codemirror_mode": {
    "name": "ipython",
    "version": 3
   },
   "file_extension": ".py",
   "mimetype": "text/x-python",
   "name": "python",
   "nbconvert_exporter": "python",
   "pygments_lexer": "ipython3",
   "version": "3.6.9"
  }
 },
 "nbformat": 4,
 "nbformat_minor": 2
}
